{
 "cells": [
  {
   "cell_type": "code",
   "execution_count": 1,
   "id": "52699c7a",
   "metadata": {
    "_cell_guid": "b1076dfc-b9ad-4769-8c92-a6c4dae69d19",
    "_uuid": "8f2839f25d086af736a60e9eeb907d3b93b6e0e5",
    "execution": {
     "iopub.execute_input": "2024-06-07T08:33:54.488601Z",
     "iopub.status.busy": "2024-06-07T08:33:54.488293Z",
     "iopub.status.idle": "2024-06-07T08:33:59.600289Z",
     "shell.execute_reply": "2024-06-07T08:33:59.599198Z"
    },
    "papermill": {
     "duration": 5.119991,
     "end_time": "2024-06-07T08:33:59.602564",
     "exception": false,
     "start_time": "2024-06-07T08:33:54.482573",
     "status": "completed"
    },
    "tags": []
   },
   "outputs": [
    {
     "data": {
      "text/plain": [
       "<contextlib.ExitStack at 0x78d33cc02320>"
      ]
     },
     "execution_count": 1,
     "metadata": {},
     "output_type": "execute_result"
    }
   ],
   "source": [
    "# License: BSD\n",
    "# Author: Sasank Chilamkurthy\n",
    "\n",
    "import torch\n",
    "import torch.nn as nn\n",
    "import torch.optim as optim\n",
    "from torch.optim import lr_scheduler\n",
    "import torch.backends.cudnn as cudnn\n",
    "import numpy as np\n",
    "import torchvision\n",
    "from torchvision import datasets, models, transforms\n",
    "import matplotlib.pyplot as plt\n",
    "import time\n",
    "import os\n",
    "from PIL import Image\n",
    "from tempfile import TemporaryDirectory\n",
    "\n",
    "cudnn.benchmark = True\n",
    "plt.ion()   # interactive mode"
   ]
  },
  {
   "cell_type": "code",
   "execution_count": 2,
   "id": "bc3ab116",
   "metadata": {
    "execution": {
     "iopub.execute_input": "2024-06-07T08:33:59.612853Z",
     "iopub.status.busy": "2024-06-07T08:33:59.612356Z",
     "iopub.status.idle": "2024-06-07T08:34:01.699326Z",
     "shell.execute_reply": "2024-06-07T08:34:01.698553Z"
    },
    "papermill": {
     "duration": 2.094726,
     "end_time": "2024-06-07T08:34:01.701761",
     "exception": false,
     "start_time": "2024-06-07T08:33:59.607035",
     "status": "completed"
    },
    "tags": []
   },
   "outputs": [],
   "source": [
    "import numpy as np\n",
    "import matplotlib.pyplot as plt\n",
    "from sklearn.metrics import confusion_matrix, classification_report\n",
    "import seaborn as sns\n",
    "classes = ['hump', 'pothole']"
   ]
  },
  {
   "cell_type": "code",
   "execution_count": 3,
   "id": "921c33a0",
   "metadata": {
    "execution": {
     "iopub.execute_input": "2024-06-07T08:34:01.712083Z",
     "iopub.status.busy": "2024-06-07T08:34:01.711333Z",
     "iopub.status.idle": "2024-06-07T08:34:05.605240Z",
     "shell.execute_reply": "2024-06-07T08:34:05.604188Z"
    },
    "papermill": {
     "duration": 3.901582,
     "end_time": "2024-06-07T08:34:05.607753",
     "exception": false,
     "start_time": "2024-06-07T08:34:01.706171",
     "status": "completed"
    },
    "tags": []
   },
   "outputs": [],
   "source": [
    "# Data augmentation and normalization for training\n",
    "# Just normalization for validation\n",
    "data_transforms = {\n",
    "    'train': transforms.Compose([\n",
    "        transforms.RandomResizedCrop(224),\n",
    "        transforms.RandomHorizontalFlip(),\n",
    "        transforms.ToTensor(),\n",
    "        transforms.Normalize([0.485, 0.456, 0.406], [0.229, 0.224, 0.225])\n",
    "    ]),\n",
    "    'test': transforms.Compose([\n",
    "        transforms.Resize(256),\n",
    "        transforms.CenterCrop(224),\n",
    "        transforms.ToTensor(),\n",
    "        transforms.Normalize([0.485, 0.456, 0.406], [0.229, 0.224, 0.225])\n",
    "    ]),\n",
    "}\n",
    "\n",
    "data_dir = '/kaggle/input/potholehumpvgg/customdataset'\n",
    "image_datasets = {x: datasets.ImageFolder(os.path.join(data_dir, x),\n",
    "                                          data_transforms[x])\n",
    "                  for x in ['train', 'test']}\n",
    "dataloaders = {x: torch.utils.data.DataLoader(image_datasets[x], batch_size=4,\n",
    "                                             shuffle=True, num_workers=4)\n",
    "              for x in ['train', 'test']}\n",
    "dataset_sizes = {x: len(image_datasets[x]) for x in ['train', 'test']}\n",
    "class_names = image_datasets['train'].classes\n",
    "\n",
    "device = torch.device(\"cuda:0\" if torch.cuda.is_available() else \"cpu\")\n",
    "\n"
   ]
  },
  {
   "cell_type": "code",
   "execution_count": 4,
   "id": "6d9feedf",
   "metadata": {
    "execution": {
     "iopub.execute_input": "2024-06-07T08:34:05.619028Z",
     "iopub.status.busy": "2024-06-07T08:34:05.618481Z",
     "iopub.status.idle": "2024-06-07T08:34:06.068131Z",
     "shell.execute_reply": "2024-06-07T08:34:06.067139Z"
    },
    "papermill": {
     "duration": 0.457822,
     "end_time": "2024-06-07T08:34:06.070674",
     "exception": false,
     "start_time": "2024-06-07T08:34:05.612852",
     "status": "completed"
    },
    "tags": []
   },
   "outputs": [
    {
     "name": "stderr",
     "output_type": "stream",
     "text": [
      "/opt/conda/lib/python3.10/site-packages/torchvision/models/_utils.py:208: UserWarning: The parameter 'pretrained' is deprecated since 0.13 and may be removed in the future, please use 'weights' instead.\n",
      "  warnings.warn(\n",
      "/opt/conda/lib/python3.10/site-packages/torchvision/models/_utils.py:223: UserWarning: Arguments other than a weight enum or `None` for 'weights' are deprecated since 0.13 and may be removed in the future. The current behavior is equivalent to passing `weights=None`.\n",
      "  warnings.warn(msg)\n"
     ]
    }
   ],
   "source": [
    "model_ft = models.resnet34(pretrained = False)\n",
    "num_ftrs = model_ft.fc.in_features\n",
    "# Here the size of each output sample is set to 2.\n",
    "# Alternatively, it can be generalized to ``nn.Linear(num_ftrs, len(class_names))``.\n",
    "model_ft.fc = nn.Linear(num_ftrs, 2)\n"
   ]
  },
  {
   "cell_type": "code",
   "execution_count": 5,
   "id": "efd43c71",
   "metadata": {
    "execution": {
     "iopub.execute_input": "2024-06-07T08:34:06.081324Z",
     "iopub.status.busy": "2024-06-07T08:34:06.081027Z",
     "iopub.status.idle": "2024-06-07T08:34:44.733032Z",
     "shell.execute_reply": "2024-06-07T08:34:44.731892Z"
    },
    "papermill": {
     "duration": 38.664064,
     "end_time": "2024-06-07T08:34:44.739559",
     "exception": false,
     "start_time": "2024-06-07T08:34:06.075495",
     "status": "completed"
    },
    "tags": []
   },
   "outputs": [
    {
     "name": "stdout",
     "output_type": "stream",
     "text": [
      "Training Accuracy: 0.9789758534554538\n"
     ]
    }
   ],
   "source": [
    "model_ft.load_state_dict(torch.load('/kaggle/input/resnet-tl/best_model.pth', map_location=device))\n",
    "model_ft.to(device)\n",
    "\n",
    "model_ft.eval()\n",
    "correct = 0\n",
    "total = 0\n",
    "predictions = []\n",
    "true_labels = []\n",
    "with torch.no_grad():\n",
    "    for inputs, labels in dataloaders['train']:\n",
    "        inputs, labels = inputs.to(device), labels.to(device)\n",
    "        outputs = model_ft(inputs)\n",
    "        _, predicted = torch.max(outputs, 1)\n",
    "        total += labels.size(0)\n",
    "        correct += (predicted == labels).sum().item()\n",
    "        predictions.extend(predicted.tolist())\n",
    "        true_labels.extend(labels.tolist())\n",
    "\n",
    "# Convert predictions and true labels to numpy arrays\n",
    "predictions = np.array(predictions)\n",
    "true_labels = np.array(true_labels)\n",
    "\n",
    "\n",
    "\n",
    "test_accuracy = correct / total\n",
    "print(f\"Training Accuracy: {test_accuracy}\")"
   ]
  },
  {
   "cell_type": "code",
   "execution_count": 6,
   "id": "c3303772",
   "metadata": {
    "execution": {
     "iopub.execute_input": "2024-06-07T08:34:44.750445Z",
     "iopub.status.busy": "2024-06-07T08:34:44.749551Z",
     "iopub.status.idle": "2024-06-07T08:34:45.091590Z",
     "shell.execute_reply": "2024-06-07T08:34:45.090624Z"
    },
    "papermill": {
     "duration": 0.349685,
     "end_time": "2024-06-07T08:34:45.093568",
     "exception": false,
     "start_time": "2024-06-07T08:34:44.743883",
     "status": "completed"
    },
    "tags": []
   },
   "outputs": [
    {
     "data": {
      "image/png": "[encoded data removed]",
      "text/plain": [
       "<Figure size 1000x800 with 2 Axes>"
      ]
     },
     "metadata": {},
     "output_type": "display_data"
    }
   ],
   "source": [
    "# Calculate the confusion matrix\n",
    "cm = confusion_matrix(true_labels, predictions)\n",
    "\n",
    "# Plot the confusion matrix\n",
    "plt.figure(figsize=(10, 8))\n",
    "sns.heatmap(cm, annot=True, fmt=\"d\", cmap=\"Blues\", xticklabels=classes, yticklabels=classes)\n",
    "plt.xlabel('Predicted labels')\n",
    "plt.ylabel('True labels')\n",
    "plt.title('Confusion Matrix for training data')\n",
    "plt.show()"
   ]
  },
  {
   "cell_type": "code",
   "execution_count": 7,
   "id": "66589fd9",
   "metadata": {
    "execution": {
     "iopub.execute_input": "2024-06-07T08:34:45.104579Z",
     "iopub.status.busy": "2024-06-07T08:34:45.104285Z",
     "iopub.status.idle": "2024-06-07T08:34:45.119834Z",
     "shell.execute_reply": "2024-06-07T08:34:45.118765Z"
    },
    "papermill": {
     "duration": 0.023186,
     "end_time": "2024-06-07T08:34:45.121713",
     "exception": false,
     "start_time": "2024-06-07T08:34:45.098527",
     "status": "completed"
    },
    "tags": []
   },
   "outputs": [
    {
     "name": "stdout",
     "output_type": "stream",
     "text": [
      "Training\n",
      "              precision    recall  f1-score   support\n",
      "\n",
      "           0  0.97219771 0.98304328 0.97759041      2241\n",
      "           1  0.98502758 0.97541943 0.98019996      2563\n",
      "\n",
      "    accuracy                      0.97897585      4804\n",
      "   macro avg  0.97861264 0.97923136 0.97889519      4804\n",
      "weighted avg  0.97904262 0.97897585 0.97898264      4804\n",
      "\n"
     ]
    }
   ],
   "source": [
    "print('Training')\n",
    "print(classification_report(true_labels, predictions, digits = 8))"
   ]
  },
  {
   "cell_type": "code",
   "execution_count": 8,
   "id": "786cc5be",
   "metadata": {
    "execution": {
     "iopub.execute_input": "2024-06-07T08:34:45.133155Z",
     "iopub.status.busy": "2024-06-07T08:34:45.132617Z",
     "iopub.status.idle": "2024-06-07T08:34:48.391433Z",
     "shell.execute_reply": "2024-06-07T08:34:48.390104Z"
    },
    "papermill": {
     "duration": 3.267025,
     "end_time": "2024-06-07T08:34:48.393858",
     "exception": false,
     "start_time": "2024-06-07T08:34:45.126833",
     "status": "completed"
    },
    "tags": []
   },
   "outputs": [
    {
     "name": "stdout",
     "output_type": "stream",
     "text": [
      "Validation Accuracy: 0.9787234042553191\n"
     ]
    }
   ],
   "source": [
    "\n",
    "model_ft.eval()\n",
    "correct = 0\n",
    "total = 0\n",
    "predictions = []\n",
    "true_labels = []\n",
    "with torch.no_grad():\n",
    "    for inputs, labels in dataloaders['test']:\n",
    "        inputs, labels = inputs.to(device), labels.to(device)\n",
    "        outputs = model_ft(inputs)\n",
    "        _, predicted = torch.max(outputs, 1)\n",
    "        total += labels.size(0)\n",
    "        correct += (predicted == labels).sum().item()\n",
    "        predictions.extend(predicted.tolist())\n",
    "        true_labels.extend(labels.tolist())\n",
    "\n",
    "# Convert predictions and true labels to numpy arrays\n",
    "predictions = np.array(predictions)\n",
    "true_labels = np.array(true_labels)\n",
    "\n",
    "\n",
    "\n",
    "test_accuracy = correct / total\n",
    "print(f\"Validation Accuracy: {test_accuracy}\")"
   ]
  },
  {
   "cell_type": "code",
   "execution_count": 9,
   "id": "9802e099",
   "metadata": {
    "execution": {
     "iopub.execute_input": "2024-06-07T08:34:48.407211Z",
     "iopub.status.busy": "2024-06-07T08:34:48.406817Z",
     "iopub.status.idle": "2024-06-07T08:34:48.748168Z",
     "shell.execute_reply": "2024-06-07T08:34:48.747161Z"
    },
    "papermill": {
     "duration": 0.350845,
     "end_time": "2024-06-07T08:34:48.750601",
     "exception": false,
     "start_time": "2024-06-07T08:34:48.399756",
     "status": "completed"
    },
    "tags": []
   },
   "outputs": [
    {
     "data": {
      "image/png": "[encoded data removed]",
      "text/plain": [
       "<Figure size 1000x800 with 2 Axes>"
      ]
     },
     "metadata": {},
     "output_type": "display_data"
    }
   ],
   "source": [
    "# Calculate the confusion matrix\n",
    "cm = confusion_matrix(true_labels, predictions)\n",
    "\n",
    "# Plot the confusion matrix\n",
    "plt.figure(figsize=(10, 8))\n",
    "sns.heatmap(cm, annot=True, fmt=\"d\", cmap=\"Blues\", xticklabels=classes, yticklabels=classes)\n",
    "plt.xlabel('Predicted labels')\n",
    "plt.ylabel('True labels')\n",
    "plt.title('Confusion Matrix for Validation data')\n",
    "plt.show()"
   ]
  },
  {
   "cell_type": "code",
   "execution_count": 10,
   "id": "ee60223d",
   "metadata": {
    "execution": {
     "iopub.execute_input": "2024-06-07T08:34:48.764414Z",
     "iopub.status.busy": "2024-06-07T08:34:48.763841Z",
     "iopub.status.idle": "2024-06-07T08:34:48.778694Z",
     "shell.execute_reply": "2024-06-07T08:34:48.777599Z"
    },
    "papermill": {
     "duration": 0.024075,
     "end_time": "2024-06-07T08:34:48.780973",
     "exception": false,
     "start_time": "2024-06-07T08:34:48.756898",
     "status": "completed"
    },
    "tags": []
   },
   "outputs": [
    {
     "name": "stdout",
     "output_type": "stream",
     "text": [
      "Validation\n",
      "              precision    recall  f1-score   support\n",
      "\n",
      "           0  1.00000000 0.95238095 0.97560976        21\n",
      "           1  0.96296296 1.00000000 0.98113208        26\n",
      "\n",
      "    accuracy                      0.97872340        47\n",
      "   macro avg  0.98148148 0.97619048 0.97837092        47\n",
      "weighted avg  0.97951143 0.97872340 0.97866466        47\n",
      "\n"
     ]
    }
   ],
   "source": [
    "print('Validation')\n",
    "print(classification_report(true_labels, predictions, digits = 8))"
   ]
  },
  {
   "cell_type": "code",
   "execution_count": 11,
   "id": "997c8ce5",
   "metadata": {
    "execution": {
     "iopub.execute_input": "2024-06-07T08:34:48.795506Z",
     "iopub.status.busy": "2024-06-07T08:34:48.795245Z",
     "iopub.status.idle": "2024-06-07T08:34:48.845303Z",
     "shell.execute_reply": "2024-06-07T08:34:48.844393Z"
    },
    "papermill": {
     "duration": 0.059758,
     "end_time": "2024-06-07T08:34:48.847405",
     "exception": false,
     "start_time": "2024-06-07T08:34:48.787647",
     "status": "completed"
    },
    "tags": []
   },
   "outputs": [],
   "source": [
    "image_dataset = datasets.ImageFolder('/kaggle/input/vggtest/vggtest',\n",
    "                                          data_transforms['test'])\n",
    "test_loader = torch.utils.data.DataLoader(image_dataset, batch_size=4,\n",
    "                                             shuffle=True, num_workers=4)"
   ]
  },
  {
   "cell_type": "code",
   "execution_count": 12,
   "id": "8797f05c",
   "metadata": {
    "execution": {
     "iopub.execute_input": "2024-06-07T08:34:48.860125Z",
     "iopub.status.busy": "2024-06-07T08:34:48.859852Z",
     "iopub.status.idle": "2024-06-07T08:34:53.046290Z",
     "shell.execute_reply": "2024-06-07T08:34:53.044939Z"
    },
    "papermill": {
     "duration": 4.195303,
     "end_time": "2024-06-07T08:34:53.048667",
     "exception": false,
     "start_time": "2024-06-07T08:34:48.853364",
     "status": "completed"
    },
    "tags": []
   },
   "outputs": [
    {
     "name": "stdout",
     "output_type": "stream",
     "text": [
      "Test Accuracy: 0.9938650306748467\n"
     ]
    }
   ],
   "source": [
    "\n",
    "model_ft.eval()\n",
    "correct = 0\n",
    "total = 0\n",
    "predictions = []\n",
    "true_labels = []\n",
    "with torch.no_grad():\n",
    "    for inputs, labels in test_loader:\n",
    "        inputs, labels = inputs.to(device), labels.to(device)\n",
    "        outputs = model_ft(inputs)\n",
    "        _, predicted = torch.max(outputs, 1)\n",
    "        total += labels.size(0)\n",
    "        correct += (predicted == labels).sum().item()\n",
    "        predictions.extend(predicted.tolist())\n",
    "        true_labels.extend(labels.tolist())\n",
    "\n",
    "# Convert predictions and true labels to numpy arrays\n",
    "predictions = np.array(predictions)\n",
    "true_labels = np.array(true_labels)\n",
    "\n",
    "\n",
    "\n",
    "test_accuracy = correct / total\n",
    "print(f\"Test Accuracy: {test_accuracy}\")"
   ]
  },
  {
   "cell_type": "code",
   "execution_count": 13,
   "id": "6c38f1dd",
   "metadata": {
    "execution": {
     "iopub.execute_input": "2024-06-07T08:34:53.063702Z",
     "iopub.status.busy": "2024-06-07T08:34:53.062855Z",
     "iopub.status.idle": "2024-06-07T08:34:53.578802Z",
     "shell.execute_reply": "2024-06-07T08:34:53.577689Z"
    },
    "papermill": {
     "duration": 0.526074,
     "end_time": "2024-06-07T08:34:53.580960",
     "exception": false,
     "start_time": "2024-06-07T08:34:53.054886",
     "status": "completed"
    },
    "tags": []
   },
   "outputs": [
    {
     "data": {
      "image/png": "[encoded data removed]",
      "text/plain": [
       "<Figure size 1000x800 with 2 Axes>"
      ]
     },
     "metadata": {},
     "output_type": "display_data"
    }
   ],
   "source": [
    "cm = confusion_matrix(true_labels, predictions)\n",
    "\n",
    "# Plot the confusion matrix\n",
    "plt.figure(figsize=(10, 8))\n",
    "sns.heatmap(cm, annot=True, fmt=\"d\", cmap=\"Blues\", xticklabels=classes, yticklabels=classes)\n",
    "plt.xlabel('Predicted labels')\n",
    "plt.ylabel('True labels')\n",
    "plt.title('Confusion Matrix for Testing Data')\n",
    "plt.show()\n"
   ]
  },
  {
   "cell_type": "code",
   "execution_count": 14,
   "id": "a113f78d",
   "metadata": {
    "execution": {
     "iopub.execute_input": "2024-06-07T08:34:53.596279Z",
     "iopub.status.busy": "2024-06-07T08:34:53.595362Z",
     "iopub.status.idle": "2024-06-07T08:34:53.608537Z",
     "shell.execute_reply": "2024-06-07T08:34:53.607429Z"
    },
    "papermill": {
     "duration": 0.023005,
     "end_time": "2024-06-07T08:34:53.610586",
     "exception": false,
     "start_time": "2024-06-07T08:34:53.587581",
     "status": "completed"
    },
    "tags": []
   },
   "outputs": [
    {
     "name": "stdout",
     "output_type": "stream",
     "text": [
      "              precision    recall  f1-score   support\n",
      "\n",
      "           0  1.00000000 0.98795181 0.99393939        83\n",
      "           1  0.98765432 1.00000000 0.99378882        80\n",
      "\n",
      "    accuracy                      0.99386503       163\n",
      "   macro avg  0.99382716 0.99397590 0.99386411       163\n",
      "weighted avg  0.99394077 0.99386503 0.99386549       163\n",
      "\n"
     ]
    }
   ],
   "source": [
    "print(classification_report(true_labels, predictions, digits = 8))"
   ]
  }
 ],
 "metadata": {
  "kaggle": {
   "accelerator": "gpu",
   "dataSources": [
    {
     "datasetId": 4909829,
     "sourceId": 8269878,
     "sourceType": "datasetVersion"
    },
    {
     "datasetId": 4889801,
     "sourceId": 8242724,
     "sourceType": "datasetVersion"
    },
    {
     "sourceId": 181876721,
     "sourceType": "kernelVersion"
    }
   ],
   "isGpuEnabled": true,
   "isInternetEnabled": true,
   "language": "python",
   "sourceType": "notebook"
  },
  "kernelspec": {
   "display_name": "Python 3",
   "language": "python",
   "name": "python3"
  },
  "language_info": {
   "codemirror_mode": {
    "name": "ipython",
    "version": 3
   },
   "file_extension": ".py",
   "mimetype": "text/x-python",
   "name": "python",
   "nbconvert_exporter": "python",
   "pygments_lexer": "ipython3",
   "version": "3.10.13"
  },
  "papermill": {
   "default_parameters": {},
   "duration": 64.130777,
   "end_time": "2024-06-07T08:34:55.929226",
   "environment_variables": {},
   "exception": null,
   "input_path": "__notebook__.ipynb",
   "output_path": "__notebook__.ipynb",
   "parameters": {},
   "start_time": "2024-06-07T08:33:51.798449",
   "version": "2.5.0"
  }
 },
 "nbformat": 4,
 "nbformat_minor": 5
}
