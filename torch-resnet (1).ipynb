{
 "cells": [
  {
   "cell_type": "code",
   "execution_count": 1,
   "id": "487360f0",
   "metadata": {
    "_cell_guid": "b1076dfc-b9ad-4769-8c92-a6c4dae69d19",
    "_uuid": "8f2839f25d086af736a60e9eeb907d3b93b6e0e5",
    "execution": {
     "iopub.execute_input": "2024-05-01T19:10:56.284823Z",
     "iopub.status.busy": "2024-05-01T19:10:56.284096Z",
     "iopub.status.idle": "2024-05-01T19:11:02.749334Z",
     "shell.execute_reply": "2024-05-01T19:11:02.748355Z"
    },
    "papermill": {
     "duration": 6.475092,
     "end_time": "2024-05-01T19:11:02.751878",
     "exception": false,
     "start_time": "2024-05-01T19:10:56.276786",
     "status": "completed"
    },
    "tags": []
   },
   "outputs": [],
   "source": [
    "import torch\n",
    "import torchvision\n",
    "import numpy as np\n",
    "import matplotlib.pyplot as plt\n",
    "import torch.nn as nn\n",
    "from torchvision import datasets, transforms"
   ]
  },
  {
   "cell_type": "code",
   "execution_count": 2,
   "id": "dc30ee4d",
   "metadata": {
    "execution": {
     "iopub.execute_input": "2024-05-01T19:11:02.764067Z",
     "iopub.status.busy": "2024-05-01T19:11:02.763406Z",
     "iopub.status.idle": "2024-05-01T19:11:02.768949Z",
     "shell.execute_reply": "2024-05-01T19:11:02.768041Z"
    },
    "papermill": {
     "duration": 0.013443,
     "end_time": "2024-05-01T19:11:02.770797",
     "exception": false,
     "start_time": "2024-05-01T19:11:02.757354",
     "status": "completed"
    },
    "tags": []
   },
   "outputs": [],
   "source": [
    "normalize = transforms.Normalize(\n",
    "        mean=[0.4914, 0.4822, 0.4465],\n",
    "        std=[0.2023, 0.1994, 0.2010],\n",
    "    )\n",
    "transform = transforms.Compose([\n",
    "            transforms.Resize((224,224)),\n",
    "            transforms.ToTensor(),\n",
    "            normalize])\n"
   ]
  },
  {
   "cell_type": "code",
   "execution_count": 3,
   "id": "8fc10ad3",
   "metadata": {
    "execution": {
     "iopub.execute_input": "2024-05-01T19:11:02.782495Z",
     "iopub.status.busy": "2024-05-01T19:11:02.781912Z",
     "iopub.status.idle": "2024-05-01T19:11:04.771092Z",
     "shell.execute_reply": "2024-05-01T19:11:04.770107Z"
    },
    "papermill": {
     "duration": 1.997406,
     "end_time": "2024-05-01T19:11:04.773512",
     "exception": false,
     "start_time": "2024-05-01T19:11:02.776106",
     "status": "completed"
    },
    "tags": []
   },
   "outputs": [],
   "source": [
    "from torchvision import datasets, transforms\n",
    "train_dataset = datasets.ImageFolder('/kaggle/input/potholehumpvgg/customdataset/train', transform=transform)\n",
    "test_dataset = datasets.ImageFolder('/kaggle/input/vggtest/vggtest', transform=transform)\n",
    "train_loader = torch.utils.data.DataLoader(train_dataset, batch_size=32, shuffle=True)\n",
    "test_loader = torch.utils.data.DataLoader(test_dataset, batch_size=32, shuffle=False)\n",
    "\n"
   ]
  },
  {
   "cell_type": "code",
   "execution_count": 4,
   "id": "33c2e4bf",
   "metadata": {
    "execution": {
     "iopub.execute_input": "2024-05-01T19:11:04.785191Z",
     "iopub.status.busy": "2024-05-01T19:11:04.784871Z",
     "iopub.status.idle": "2024-05-01T19:11:05.493130Z",
     "shell.execute_reply": "2024-05-01T19:11:05.492187Z"
    },
    "papermill": {
     "duration": 0.716475,
     "end_time": "2024-05-01T19:11:05.495395",
     "exception": false,
     "start_time": "2024-05-01T19:11:04.778920",
     "status": "completed"
    },
    "tags": []
   },
   "outputs": [
    {
     "name": "stdout",
     "output_type": "stream",
     "text": [
      "Image batch dimensions: torch.Size([32, 3, 224, 224])\n",
      "Image label dimensions: torch.Size([32])\n",
      "Class labels of 10 examples: tensor([0, 0, 0, 1, 1, 0, 1, 1, 1, 1])\n"
     ]
    }
   ],
   "source": [
    "for images, labels in train_loader:  \n",
    "    print('Image batch dimensions:', images.shape)\n",
    "    print('Image label dimensions:', labels.shape)\n",
    "    print('Class labels of 10 examples:', labels[:10])\n",
    "    break"
   ]
  },
  {
   "cell_type": "code",
   "execution_count": 5,
   "id": "c1be4a03",
   "metadata": {
    "execution": {
     "iopub.execute_input": "2024-05-01T19:11:05.507209Z",
     "iopub.status.busy": "2024-05-01T19:11:05.506899Z",
     "iopub.status.idle": "2024-05-01T19:11:05.523975Z",
     "shell.execute_reply": "2024-05-01T19:11:05.523076Z"
    },
    "papermill": {
     "duration": 0.025109,
     "end_time": "2024-05-01T19:11:05.525843",
     "exception": false,
     "start_time": "2024-05-01T19:11:05.500734",
     "status": "completed"
    },
    "tags": []
   },
   "outputs": [],
   "source": [
    "class ResidualBlock(nn.Module):\n",
    "    def __init__(self, in_channels, out_channels, stride = 1, downsample = None):\n",
    "        super(ResidualBlock, self).__init__()\n",
    "        self.conv1 = nn.Sequential(\n",
    "                        nn.Conv2d(in_channels, out_channels, kernel_size = 3, stride = stride, padding = 1),\n",
    "                        nn.BatchNorm2d(out_channels),\n",
    "                        nn.ReLU())\n",
    "        self.conv2 = nn.Sequential(\n",
    "                        nn.Conv2d(out_channels, out_channels, kernel_size = 3, stride = 1, padding = 1),\n",
    "                        nn.BatchNorm2d(out_channels))\n",
    "        self.downsample = downsample\n",
    "        self.relu = nn.ReLU()\n",
    "        self.out_channels = out_channels\n",
    "        \n",
    "    def forward(self, x):\n",
    "        residual = x\n",
    "        out = self.conv1(x)\n",
    "        out = self.conv2(out)\n",
    "        if self.downsample:\n",
    "            residual = self.downsample(x)\n",
    "        out += residual\n",
    "        out = self.relu(out)\n",
    "        return out\n",
    "    \n",
    "class ResNet(nn.Module):\n",
    "    def __init__(self, block, layers, num_classes = 10):\n",
    "        super(ResNet, self).__init__()\n",
    "        self.inplanes = 64\n",
    "        self.conv1 = nn.Sequential(\n",
    "                        nn.Conv2d(3, 64, kernel_size = 7, stride = 2, padding = 3),\n",
    "                        nn.BatchNorm2d(64),\n",
    "                        nn.ReLU())\n",
    "        self.maxpool = nn.MaxPool2d(kernel_size = 3, stride = 2, padding = 1)\n",
    "        self.layer0 = self._make_layer(block, 64, layers[0], stride = 1)\n",
    "        self.layer1 = self._make_layer(block, 128, layers[1], stride = 2)\n",
    "        self.layer2 = self._make_layer(block, 256, layers[2], stride = 2)\n",
    "        self.layer3 = self._make_layer(block, 512, layers[3], stride = 2)\n",
    "        self.avgpool = nn.AvgPool2d(7, stride=1)\n",
    "        self.fc = nn.Linear(512, num_classes)\n",
    "        \n",
    "    def _make_layer(self, block, planes, blocks, stride=1):\n",
    "        downsample = None\n",
    "        if stride != 1 or self.inplanes != planes:\n",
    "            \n",
    "            downsample = nn.Sequential(\n",
    "                nn.Conv2d(self.inplanes, planes, kernel_size=1, stride=stride),\n",
    "                nn.BatchNorm2d(planes),\n",
    "            )\n",
    "        layers = []\n",
    "        layers.append(block(self.inplanes, planes, stride, downsample))\n",
    "        self.inplanes = planes\n",
    "        for i in range(1, blocks):\n",
    "            layers.append(block(self.inplanes, planes))\n",
    "\n",
    "        return nn.Sequential(*layers)\n",
    "    \n",
    "    \n",
    "    def forward(self, x):\n",
    "        x = self.conv1(x)\n",
    "        x = self.maxpool(x)\n",
    "        x = self.layer0(x)\n",
    "        x = self.layer1(x)\n",
    "        x = self.layer2(x)\n",
    "        x = self.layer3(x)\n",
    "\n",
    "        x = self.avgpool(x)\n",
    "        x = x.view(x.size(0), -1)\n",
    "        x = self.fc(x)\n",
    "\n",
    "        return x"
   ]
  },
  {
   "cell_type": "code",
   "execution_count": 6,
   "id": "73a5e5cb",
   "metadata": {
    "execution": {
     "iopub.execute_input": "2024-05-01T19:11:05.537245Z",
     "iopub.status.busy": "2024-05-01T19:11:05.536939Z",
     "iopub.status.idle": "2024-05-01T19:11:05.589834Z",
     "shell.execute_reply": "2024-05-01T19:11:05.588919Z"
    },
    "papermill": {
     "duration": 0.060828,
     "end_time": "2024-05-01T19:11:05.591863",
     "exception": false,
     "start_time": "2024-05-01T19:11:05.531035",
     "status": "completed"
    },
    "tags": []
   },
   "outputs": [],
   "source": [
    "BATCH_SIZE = 32\n",
    "device = torch.device('cuda' if torch.cuda.is_available() else 'cpu')"
   ]
  },
  {
   "cell_type": "code",
   "execution_count": 7,
   "id": "82303e03",
   "metadata": {
    "execution": {
     "iopub.execute_input": "2024-05-01T19:11:05.603312Z",
     "iopub.status.busy": "2024-05-01T19:11:05.603003Z",
     "iopub.status.idle": "2024-05-01T19:11:06.013463Z",
     "shell.execute_reply": "2024-05-01T19:11:06.012632Z"
    },
    "papermill": {
     "duration": 0.418716,
     "end_time": "2024-05-01T19:11:06.015823",
     "exception": false,
     "start_time": "2024-05-01T19:11:05.597107",
     "status": "completed"
    },
    "tags": []
   },
   "outputs": [],
   "source": [
    "num_classes = 2\n",
    "num_epochs = 30\n",
    "batch_size = 32\n",
    "learning_rate = 0.01\n",
    "model = ResNet(ResidualBlock, [3, 4, 6, 3], num_classes).to(device)\n",
    "\n",
    "# Loss and optimizer\n",
    "criterion = nn.CrossEntropyLoss()\n",
    "optimizer = torch.optim.SGD(model.parameters(), lr=learning_rate, weight_decay = 0.001, momentum = 0.9)  \n",
    "\n",
    "# Train the model\n",
    "total_step = len(train_loader)"
   ]
  },
  {
   "cell_type": "code",
   "execution_count": 8,
   "id": "237b4336",
   "metadata": {
    "execution": {
     "iopub.execute_input": "2024-05-01T19:11:06.027635Z",
     "iopub.status.busy": "2024-05-01T19:11:06.027326Z",
     "iopub.status.idle": "2024-05-01T22:06:20.734936Z",
     "shell.execute_reply": "2024-05-01T22:06:20.733949Z"
    },
    "papermill": {
     "duration": 10514.715905,
     "end_time": "2024-05-01T22:06:20.737150",
     "exception": false,
     "start_time": "2024-05-01T19:11:06.021245",
     "status": "completed"
    },
    "tags": []
   },
   "outputs": [
    {
     "name": "stdout",
     "output_type": "stream",
     "text": [
      "Epoch [1/100], Loss: 0.0377\n",
      "Accuracy of the network on the 163 validation images: 57.06 %\n",
      "Epoch [2/100], Loss: 0.0046\n",
      "Accuracy of the network on the 163 validation images: 57.67 %\n",
      "Epoch [3/100], Loss: 2.6230\n",
      "Accuracy of the network on the 163 validation images: 62.58 %\n",
      "Epoch [4/100], Loss: 0.1877\n",
      "Accuracy of the network on the 163 validation images: 66.26 %\n",
      "Epoch [5/100], Loss: 0.0019\n",
      "Accuracy of the network on the 163 validation images: 65.03 %\n",
      "Epoch [6/100], Loss: 0.0524\n",
      "Accuracy of the network on the 163 validation images: 63.19 %\n",
      "Epoch [7/100], Loss: 2.6613\n",
      "Accuracy of the network on the 163 validation images: 61.35 %\n",
      "Epoch [8/100], Loss: 0.0032\n",
      "Accuracy of the network on the 163 validation images: 69.33 %\n",
      "Epoch [9/100], Loss: 0.0047\n",
      "Accuracy of the network on the 163 validation images: 75.46 %\n",
      "Epoch [10/100], Loss: 1.9761\n",
      "Accuracy of the network on the 163 validation images: 68.10 %\n",
      "Epoch [11/100], Loss: 1.5299\n",
      "Accuracy of the network on the 163 validation images: 68.10 %\n",
      "Epoch [12/100], Loss: 0.0049\n",
      "Accuracy of the network on the 163 validation images: 63.80 %\n",
      "Epoch [13/100], Loss: 0.7653\n",
      "Accuracy of the network on the 163 validation images: 63.19 %\n",
      "Epoch [14/100], Loss: 0.6208\n",
      "Accuracy of the network on the 163 validation images: 67.48 %\n",
      "Epoch [15/100], Loss: 0.0010\n",
      "Accuracy of the network on the 163 validation images: 63.80 %\n",
      "Epoch [16/100], Loss: 0.0001\n",
      "Accuracy of the network on the 163 validation images: 67.48 %\n",
      "Epoch [17/100], Loss: 0.0000\n",
      "Accuracy of the network on the 163 validation images: 63.80 %\n",
      "Epoch [18/100], Loss: 0.0038\n",
      "Accuracy of the network on the 163 validation images: 60.74 %\n",
      "Epoch [19/100], Loss: 0.0183\n",
      "Accuracy of the network on the 163 validation images: 67.48 %\n",
      "Epoch [20/100], Loss: 0.0006\n",
      "Accuracy of the network on the 163 validation images: 68.71 %\n",
      "Epoch [21/100], Loss: 1.0169\n",
      "Accuracy of the network on the 163 validation images: 70.55 %\n",
      "Epoch [22/100], Loss: 0.0231\n",
      "Accuracy of the network on the 163 validation images: 68.71 %\n",
      "Epoch [23/100], Loss: 0.1430\n",
      "Accuracy of the network on the 163 validation images: 76.69 %\n",
      "Epoch [24/100], Loss: 0.0010\n",
      "Accuracy of the network on the 163 validation images: 65.64 %\n",
      "Epoch [25/100], Loss: 0.0121\n",
      "Accuracy of the network on the 163 validation images: 63.80 %\n",
      "Epoch [26/100], Loss: 0.0010\n",
      "Accuracy of the network on the 163 validation images: 68.10 %\n",
      "Epoch [27/100], Loss: 0.0059\n",
      "Accuracy of the network on the 163 validation images: 71.78 %\n",
      "Epoch [28/100], Loss: 0.0006\n",
      "Accuracy of the network on the 163 validation images: 67.48 %\n",
      "Epoch [29/100], Loss: 0.0000\n",
      "Accuracy of the network on the 163 validation images: 66.87 %\n",
      "Epoch [30/100], Loss: 0.0000\n",
      "Accuracy of the network on the 163 validation images: 71.78 %\n",
      "Epoch [31/100], Loss: 1.2521\n",
      "Accuracy of the network on the 163 validation images: 72.39 %\n",
      "Epoch [32/100], Loss: 0.0055\n",
      "Accuracy of the network on the 163 validation images: 69.33 %\n",
      "Epoch [33/100], Loss: 0.0062\n",
      "Accuracy of the network on the 163 validation images: 66.26 %\n",
      "Epoch [34/100], Loss: 0.3436\n",
      "Accuracy of the network on the 163 validation images: 71.78 %\n",
      "Epoch [35/100], Loss: 0.6856\n",
      "Accuracy of the network on the 163 validation images: 70.55 %\n",
      "Epoch [36/100], Loss: 0.0214\n",
      "Accuracy of the network on the 163 validation images: 73.01 %\n",
      "Epoch [37/100], Loss: 0.6587\n",
      "Accuracy of the network on the 163 validation images: 67.48 %\n",
      "Epoch [38/100], Loss: 1.2182\n",
      "Accuracy of the network on the 163 validation images: 75.46 %\n",
      "Epoch [39/100], Loss: 0.0057\n",
      "Accuracy of the network on the 163 validation images: 77.30 %\n",
      "Epoch [40/100], Loss: 0.0002\n",
      "Accuracy of the network on the 163 validation images: 73.01 %\n",
      "Epoch [41/100], Loss: 0.0010\n",
      "Accuracy of the network on the 163 validation images: 75.46 %\n",
      "Epoch [42/100], Loss: 0.0001\n",
      "Accuracy of the network on the 163 validation images: 73.62 %\n",
      "Epoch [43/100], Loss: 0.7622\n",
      "Accuracy of the network on the 163 validation images: 69.33 %\n",
      "Epoch [44/100], Loss: 0.0007\n",
      "Accuracy of the network on the 163 validation images: 76.69 %\n",
      "Epoch [45/100], Loss: 0.0000\n",
      "Accuracy of the network on the 163 validation images: 77.91 %\n",
      "Epoch [46/100], Loss: 0.0001\n",
      "Accuracy of the network on the 163 validation images: 76.07 %\n",
      "Epoch [47/100], Loss: 0.6368\n",
      "Accuracy of the network on the 163 validation images: 73.62 %\n",
      "Epoch [48/100], Loss: 0.0000\n",
      "Accuracy of the network on the 163 validation images: 76.07 %\n",
      "Epoch [49/100], Loss: 1.0385\n",
      "Accuracy of the network on the 163 validation images: 70.55 %\n",
      "Epoch [50/100], Loss: 0.0001\n",
      "Accuracy of the network on the 163 validation images: 66.87 %\n",
      "Epoch [51/100], Loss: 0.0001\n",
      "Accuracy of the network on the 163 validation images: 77.30 %\n",
      "Epoch [52/100], Loss: 0.0011\n",
      "Accuracy of the network on the 163 validation images: 73.62 %\n",
      "Epoch [53/100], Loss: 0.2468\n",
      "Accuracy of the network on the 163 validation images: 74.23 %\n",
      "Epoch [54/100], Loss: 0.0034\n",
      "Accuracy of the network on the 163 validation images: 74.23 %\n",
      "Epoch [55/100], Loss: 1.7956\n",
      "Accuracy of the network on the 163 validation images: 69.94 %\n",
      "Epoch [56/100], Loss: 0.0012\n",
      "Accuracy of the network on the 163 validation images: 70.55 %\n",
      "Epoch [57/100], Loss: 0.0556\n",
      "Accuracy of the network on the 163 validation images: 73.01 %\n",
      "Epoch [58/100], Loss: 1.5781\n",
      "Accuracy of the network on the 163 validation images: 67.48 %\n",
      "Epoch [59/100], Loss: 0.0033\n",
      "Accuracy of the network on the 163 validation images: 71.17 %\n",
      "Epoch [60/100], Loss: 0.0011\n",
      "Accuracy of the network on the 163 validation images: 70.55 %\n",
      "Epoch [61/100], Loss: 0.9025\n",
      "Accuracy of the network on the 163 validation images: 69.33 %\n",
      "Epoch [62/100], Loss: 0.2683\n",
      "Accuracy of the network on the 163 validation images: 65.03 %\n",
      "Epoch [63/100], Loss: 0.2359\n",
      "Accuracy of the network on the 163 validation images: 75.46 %\n",
      "Epoch [64/100], Loss: 0.0001\n",
      "Accuracy of the network on the 163 validation images: 75.46 %\n",
      "Epoch [65/100], Loss: 0.0068\n",
      "Accuracy of the network on the 163 validation images: 73.01 %\n",
      "Epoch [66/100], Loss: 0.0000\n",
      "Accuracy of the network on the 163 validation images: 71.17 %\n",
      "Epoch [67/100], Loss: 0.0005\n",
      "Accuracy of the network on the 163 validation images: 71.17 %\n",
      "Epoch [68/100], Loss: 0.0005\n",
      "Accuracy of the network on the 163 validation images: 71.78 %\n",
      "Epoch [69/100], Loss: 0.1573\n",
      "Accuracy of the network on the 163 validation images: 65.64 %\n",
      "Epoch [70/100], Loss: 0.0001\n",
      "Accuracy of the network on the 163 validation images: 65.64 %\n",
      "Epoch [71/100], Loss: 0.0013\n",
      "Accuracy of the network on the 163 validation images: 69.33 %\n",
      "Epoch [72/100], Loss: 0.0014\n",
      "Accuracy of the network on the 163 validation images: 70.55 %\n",
      "Epoch [73/100], Loss: 0.0000\n",
      "Accuracy of the network on the 163 validation images: 69.33 %\n",
      "Epoch [74/100], Loss: 0.0017\n",
      "Accuracy of the network on the 163 validation images: 69.33 %\n",
      "Epoch [75/100], Loss: 0.0181\n",
      "Accuracy of the network on the 163 validation images: 68.71 %\n",
      "Epoch [76/100], Loss: 0.0299\n",
      "Accuracy of the network on the 163 validation images: 66.87 %\n",
      "Epoch [77/100], Loss: 0.0002\n",
      "Accuracy of the network on the 163 validation images: 69.94 %\n",
      "Epoch [78/100], Loss: 0.0027\n",
      "Accuracy of the network on the 163 validation images: 67.48 %\n",
      "Epoch [79/100], Loss: 0.0870\n",
      "Accuracy of the network on the 163 validation images: 68.10 %\n",
      "Epoch [80/100], Loss: 0.0021\n",
      "Accuracy of the network on the 163 validation images: 69.94 %\n",
      "Epoch [81/100], Loss: 0.0000\n",
      "Accuracy of the network on the 163 validation images: 65.64 %\n",
      "Epoch [82/100], Loss: 0.0002\n",
      "Accuracy of the network on the 163 validation images: 65.64 %\n",
      "Epoch [83/100], Loss: 0.0002\n",
      "Accuracy of the network on the 163 validation images: 67.48 %\n",
      "Epoch [84/100], Loss: 0.5317\n",
      "Accuracy of the network on the 163 validation images: 65.64 %\n",
      "Epoch [85/100], Loss: 0.0000\n",
      "Accuracy of the network on the 163 validation images: 66.87 %\n",
      "Epoch [86/100], Loss: 0.5812\n",
      "Accuracy of the network on the 163 validation images: 65.64 %\n",
      "Epoch [87/100], Loss: 0.0003\n",
      "Accuracy of the network on the 163 validation images: 67.48 %\n",
      "Epoch [88/100], Loss: 0.0001\n",
      "Accuracy of the network on the 163 validation images: 76.69 %\n",
      "Epoch [89/100], Loss: 0.0051\n",
      "Accuracy of the network on the 163 validation images: 78.53 %\n",
      "Epoch [90/100], Loss: 0.0003\n",
      "Accuracy of the network on the 163 validation images: 77.30 %\n",
      "Epoch [91/100], Loss: 0.0007\n",
      "Accuracy of the network on the 163 validation images: 76.07 %\n",
      "Epoch [92/100], Loss: 0.0270\n",
      "Accuracy of the network on the 163 validation images: 74.23 %\n",
      "Epoch [93/100], Loss: 0.0005\n",
      "Accuracy of the network on the 163 validation images: 69.94 %\n",
      "Epoch [94/100], Loss: 0.0001\n",
      "Accuracy of the network on the 163 validation images: 77.91 %\n",
      "Epoch [95/100], Loss: 0.0001\n",
      "Accuracy of the network on the 163 validation images: 67.48 %\n",
      "Epoch [96/100], Loss: 0.0020\n",
      "Accuracy of the network on the 163 validation images: 69.94 %\n",
      "Epoch [97/100], Loss: 0.0000\n",
      "Accuracy of the network on the 163 validation images: 74.85 %\n",
      "Epoch [98/100], Loss: 0.0027\n",
      "Accuracy of the network on the 163 validation images: 70.55 %\n",
      "Epoch [99/100], Loss: 0.0044\n",
      "Accuracy of the network on the 163 validation images: 58.90 %\n",
      "Epoch [100/100], Loss: 0.0001\n",
      "Accuracy of the network on the 163 validation images: 73.62 %\n",
      "Best model loaded.\n"
     ]
    }
   ],
   "source": [
    "import gc\n",
    "total_step = len(train_loader)\n",
    "valid_loader = test_loader\n",
    "num_epochs = 100\n",
    "best_accuracy = 0.0\n",
    "best_model_weights = None\n",
    "\n",
    "for epoch in range(num_epochs):\n",
    "    for i, (images, labels) in enumerate(train_loader):  \n",
    "        # Move tensors to the configured device\n",
    "        images = images.to(device)\n",
    "        labels = labels.to(device)\n",
    "        \n",
    "        # Forward pass\n",
    "        outputs = model(images)\n",
    "        loss = criterion(outputs, labels)\n",
    "        \n",
    "        # Backward and optimize\n",
    "        optimizer.zero_grad()\n",
    "        loss.backward()\n",
    "        optimizer.step()\n",
    "        del images, labels, outputs\n",
    "        torch.cuda.empty_cache()\n",
    "        gc.collect()\n",
    "\n",
    "    print('Epoch [{}/{}], Loss: {:.4f}'.format(epoch+1, num_epochs, loss.item()))\n",
    "            \n",
    "    # Validation\n",
    "    with torch.no_grad():\n",
    "        correct = 0\n",
    "        total = 0\n",
    "        for images, labels in valid_loader:\n",
    "            images = images.to(device)\n",
    "            labels = labels.to(device)\n",
    "            outputs = model(images)\n",
    "            _, predicted = torch.max(outputs.data, 1)\n",
    "            total += labels.size(0)\n",
    "            correct += (predicted == labels).sum().item()\n",
    "            del images, labels, outputs\n",
    "    \n",
    "        accuracy = 100 * correct/total\n",
    "        print('Accuracy of the network on the {} validation images: {:.2f} %'.format(len(valid_loader.dataset), accuracy))\n",
    "        \n",
    "        # Check if current model is the best, if so, save its weights\n",
    "        if accuracy > best_accuracy:\n",
    "            best_accuracy = accuracy\n",
    "            best_model_weights = model.state_dict()\n",
    "            torch.save(best_model_weights, 'best_model.pth')\n",
    "\n",
    "# After training, load the best weights\n",
    "if best_model_weights is not None:\n",
    "    model.load_state_dict(best_model_weights)\n",
    "    print(\"Best model loaded.\")\n",
    "else:\n",
    "    print(\"No best model found.\")\n"
   ]
  },
  {
   "cell_type": "code",
   "execution_count": null,
   "id": "8455fa41",
   "metadata": {
    "papermill": {
     "duration": 0.020044,
     "end_time": "2024-05-01T22:06:20.777957",
     "exception": false,
     "start_time": "2024-05-01T22:06:20.757913",
     "status": "completed"
    },
    "tags": []
   },
   "outputs": [],
   "source": []
  },
  {
   "cell_type": "code",
   "execution_count": 9,
   "id": "a57e5001",
   "metadata": {
    "execution": {
     "iopub.execute_input": "2024-05-01T22:06:20.820319Z",
     "iopub.status.busy": "2024-05-01T22:06:20.819469Z",
     "iopub.status.idle": "2024-05-01T22:06:22.703218Z",
     "shell.execute_reply": "2024-05-01T22:06:22.702340Z"
    },
    "papermill": {
     "duration": 1.907831,
     "end_time": "2024-05-01T22:06:22.705740",
     "exception": false,
     "start_time": "2024-05-01T22:06:20.797909",
     "status": "completed"
    },
    "tags": []
   },
   "outputs": [],
   "source": [
    "import numpy as np\n",
    "import matplotlib.pyplot as plt\n",
    "from sklearn.metrics import confusion_matrix, classification_report\n",
    "import seaborn as sns"
   ]
  },
  {
   "cell_type": "code",
   "execution_count": 10,
   "id": "b0ec7818",
   "metadata": {
    "execution": {
     "iopub.execute_input": "2024-05-01T22:06:22.749435Z",
     "iopub.status.busy": "2024-05-01T22:06:22.748999Z",
     "iopub.status.idle": "2024-05-01T22:06:22.753119Z",
     "shell.execute_reply": "2024-05-01T22:06:22.752283Z"
    },
    "papermill": {
     "duration": 0.028442,
     "end_time": "2024-05-01T22:06:22.754998",
     "exception": false,
     "start_time": "2024-05-01T22:06:22.726556",
     "status": "completed"
    },
    "tags": []
   },
   "outputs": [],
   "source": [
    "classes = ['hump', 'pothole']"
   ]
  },
  {
   "cell_type": "code",
   "execution_count": 11,
   "id": "60e3a906",
   "metadata": {
    "execution": {
     "iopub.execute_input": "2024-05-01T22:06:22.796109Z",
     "iopub.status.busy": "2024-05-01T22:06:22.795797Z",
     "iopub.status.idle": "2024-05-01T22:06:30.908415Z",
     "shell.execute_reply": "2024-05-01T22:06:30.907581Z"
    },
    "papermill": {
     "duration": 8.135616,
     "end_time": "2024-05-01T22:06:30.910459",
     "exception": false,
     "start_time": "2024-05-01T22:06:22.774843",
     "status": "completed"
    },
    "tags": []
   },
   "outputs": [
    {
     "data": {
      "image/png": "[encoded data removed]",
      "text/plain": [
       "<Figure size 1000x800 with 2 Axes>"
      ]
     },
     "metadata": {},
     "output_type": "display_data"
    }
   ],
   "source": [
    "model.eval()  # set the model to evaluation mode\n",
    "\n",
    "# Prepare test data\n",
    "# Assuming test_data and test_targets are your test dataset and its corresponding targets\n",
    "\n",
    "# Perform inference\n",
    "predictions = []\n",
    "true_labels = []\n",
    "\n",
    "with torch.no_grad():\n",
    "    for data, targets in test_loader:\n",
    "        data, targets = data.to('cuda'), targets.to('cuda') \n",
    "        outputs = model(data)\n",
    "        _, predicted = torch.max(outputs, 1)\n",
    "        predictions.extend(predicted.tolist())\n",
    "        true_labels.extend(targets.tolist())\n",
    "\n",
    "# Convert predictions and true labels to numpy arrays\n",
    "predictions = np.array(predictions)\n",
    "true_labels = np.array(true_labels)\n",
    "\n",
    "# Calculate the confusion matrix\n",
    "cm = confusion_matrix(true_labels, predictions)\n",
    "\n",
    "# Plot the confusion matrix\n",
    "plt.figure(figsize=(10, 8))\n",
    "sns.heatmap(cm, annot=True, fmt=\"d\", cmap=\"Blues\", xticklabels=classes, yticklabels=classes)\n",
    "plt.xlabel('Predicted labels')\n",
    "plt.ylabel('True labels')\n",
    "plt.title('Confusion Matrix')\n",
    "plt.show()"
   ]
  },
  {
   "cell_type": "code",
   "execution_count": 12,
   "id": "50b7b3bd",
   "metadata": {
    "execution": {
     "iopub.execute_input": "2024-05-01T22:06:30.953903Z",
     "iopub.status.busy": "2024-05-01T22:06:30.953560Z",
     "iopub.status.idle": "2024-05-01T22:06:30.967812Z",
     "shell.execute_reply": "2024-05-01T22:06:30.966898Z"
    },
    "papermill": {
     "duration": 0.038204,
     "end_time": "2024-05-01T22:06:30.969929",
     "exception": false,
     "start_time": "2024-05-01T22:06:30.931725",
     "status": "completed"
    },
    "tags": []
   },
   "outputs": [
    {
     "name": "stdout",
     "output_type": "stream",
     "text": [
      "              precision    recall  f1-score   support\n",
      "\n",
      "           0       0.97      0.88      0.92        83\n",
      "           1       0.89      0.97      0.93        80\n",
      "\n",
      "    accuracy                           0.93       163\n",
      "   macro avg       0.93      0.93      0.93       163\n",
      "weighted avg       0.93      0.93      0.93       163\n",
      "\n"
     ]
    }
   ],
   "source": [
    "print(classification_report(true_labels, predictions))"
   ]
  },
  {
   "cell_type": "code",
   "execution_count": 13,
   "id": "56d4e16c",
   "metadata": {
    "execution": {
     "iopub.execute_input": "2024-05-01T22:06:31.012295Z",
     "iopub.status.busy": "2024-05-01T22:06:31.012038Z",
     "iopub.status.idle": "2024-05-01T22:06:31.282823Z",
     "shell.execute_reply": "2024-05-01T22:06:31.282030Z"
    },
    "papermill": {
     "duration": 0.294381,
     "end_time": "2024-05-01T22:06:31.285042",
     "exception": false,
     "start_time": "2024-05-01T22:06:30.990661",
     "status": "completed"
    },
    "tags": []
   },
   "outputs": [],
   "source": [
    "torch.save(ResNet, 'resnet.py')\n",
    "torch.save(model.state_dict(), 'resnetpotholehump.pth')\n",
    "torch.save(model, 'resnetmodel.pt')"
   ]
  },
  {
   "cell_type": "code",
   "execution_count": 14,
   "id": "8be78781",
   "metadata": {
    "execution": {
     "iopub.execute_input": "2024-05-01T22:06:31.328301Z",
     "iopub.status.busy": "2024-05-01T22:06:31.327965Z",
     "iopub.status.idle": "2024-05-01T22:06:31.684889Z",
     "shell.execute_reply": "2024-05-01T22:06:31.683930Z"
    },
    "papermill": {
     "duration": 0.381117,
     "end_time": "2024-05-01T22:06:31.687118",
     "exception": false,
     "start_time": "2024-05-01T22:06:31.306001",
     "status": "completed"
    },
    "tags": []
   },
   "outputs": [
    {
     "name": "stdout",
     "output_type": "stream",
     "text": [
      "Predicted class: pothole\n"
     ]
    }
   ],
   "source": [
    "from PIL import Image\n",
    "\n",
    "# Load the image\n",
    "image_path = '/kaggle/input/potholehumpvgg/customdataset/test/pothole/IMG_6071.jpg'  # Replace 'example.jpg' with the path to your image\n",
    "image = Image.open(image_path)\n",
    "\n",
    "# Preprocess the image\n",
    "normalize = transforms.Normalize(\n",
    "        mean=[0.4914, 0.4822, 0.4465],\n",
    "        std=[0.2023, 0.1994, 0.2010],\n",
    "    )\n",
    "transform = transforms.Compose([\n",
    "            transforms.Resize((224,224)),\n",
    "            transforms.ToTensor(),\n",
    "            normalize])\n",
    "\n",
    "\n",
    "\n",
    "input_image = transform(image).unsqueeze(0)  # Add a batch dimension\n",
    "\n",
    "\n",
    "model.load_state_dict(torch.load('resnetpotholehump.pth'))\n",
    "model.eval()  # Set the model to evaluation mode\n",
    "\n",
    "# Perform inference\n",
    "with torch.no_grad():\n",
    "    input_image = input_image.to('cuda')  # Move the input image to GPU if available\n",
    "    output = model(input_image)\n",
    "\n",
    "# Postprocess the output\n",
    "_, predicted = torch.max(output, 1)\n",
    "predicted_class = predicted.item()\n",
    "\n",
    "# Assuming you have a list of class names\n",
    "  # Replace with your class names\n",
    "predicted_label = classes[predicted_class]\n",
    "\n",
    "print('Predicted class:', predicted_label)"
   ]
  },
  {
   "cell_type": "code",
   "execution_count": null,
   "id": "24853521",
   "metadata": {
    "papermill": {
     "duration": 0.020401,
     "end_time": "2024-05-01T22:06:31.728768",
     "exception": false,
     "start_time": "2024-05-01T22:06:31.708367",
     "status": "completed"
    },
    "tags": []
   },
   "outputs": [],
   "source": []
  }
 ],
 "metadata": {
  "kaggle": {
   "accelerator": "gpu",
   "dataSources": [
    {
     "datasetId": 4889801,
     "sourceId": 8242724,
     "sourceType": "datasetVersion"
    },
    {
     "datasetId": 4909829,
     "sourceId": 8269878,
     "sourceType": "datasetVersion"
    }
   ],
   "dockerImageVersionId": 30699,
   "isGpuEnabled": true,
   "isInternetEnabled": true,
   "language": "python",
   "sourceType": "notebook"
  },
  "kernelspec": {
   "display_name": "Python 3",
   "language": "python",
   "name": "python3"
  },
  "language_info": {
   "codemirror_mode": {
    "name": "ipython",
    "version": 3
   },
   "file_extension": ".py",
   "mimetype": "text/x-python",
   "name": "python",
   "nbconvert_exporter": "python",
   "pygments_lexer": "ipython3",
   "version": "3.10.13"
  },
  "papermill": {
   "default_parameters": {},
   "duration": 10540.780359,
   "end_time": "2024-05-01T22:06:34.223024",
   "environment_variables": {},
   "exception": null,
   "input_path": "__notebook__.ipynb",
   "output_path": "__notebook__.ipynb",
   "parameters": {},
   "start_time": "2024-05-01T19:10:53.442665",
   "version": "2.5.0"
  }
 },
 "nbformat": 4,
 "nbformat_minor": 5
}
