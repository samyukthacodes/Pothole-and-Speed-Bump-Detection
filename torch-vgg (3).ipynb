{
 "cells": [
  {
   "cell_type": "code",
   "execution_count": 1,
   "id": "49794b86",
   "metadata": {
    "_cell_guid": "b1076dfc-b9ad-4769-8c92-a6c4dae69d19",
    "_uuid": "8f2839f25d086af736a60e9eeb907d3b93b6e0e5",
    "execution": {
     "iopub.execute_input": "2024-05-01T15:17:23.178799Z",
     "iopub.status.busy": "2024-05-01T15:17:23.177874Z",
     "iopub.status.idle": "2024-05-01T15:17:30.133272Z",
     "shell.execute_reply": "2024-05-01T15:17:30.132267Z"
    },
    "papermill": {
     "duration": 6.965672,
     "end_time": "2024-05-01T15:17:30.135979",
     "exception": false,
     "start_time": "2024-05-01T15:17:23.170307",
     "status": "completed"
    },
    "tags": []
   },
   "outputs": [],
   "source": [
    "import torch\n",
    "import torchvision\n",
    "import numpy as np\n",
    "import matplotlib.pyplot as plt"
   ]
  },
  {
   "cell_type": "code",
   "execution_count": 2,
   "id": "4adce34e",
   "metadata": {
    "execution": {
     "iopub.execute_input": "2024-05-01T15:17:30.149934Z",
     "iopub.status.busy": "2024-05-01T15:17:30.149182Z",
     "iopub.status.idle": "2024-05-01T15:17:30.157969Z",
     "shell.execute_reply": "2024-05-01T15:17:30.156940Z"
    },
    "papermill": {
     "duration": 0.017969,
     "end_time": "2024-05-01T15:17:30.160270",
     "exception": false,
     "start_time": "2024-05-01T15:17:30.142301",
     "status": "completed"
    },
    "tags": []
   },
   "outputs": [],
   "source": [
    "train_transforms = torchvision.transforms.Compose([\n",
    "    torchvision.transforms.Resize((70, 70)),\n",
    "    torchvision.transforms.RandomCrop((64, 64)),\n",
    "    torchvision.transforms.ToTensor(),\n",
    "    torchvision.transforms.Normalize((0.5, 0.5, 0.5), (0.5, 0.5, 0.5))])\n",
    "\n",
    "test_transforms = torchvision.transforms.Compose([\n",
    "    torchvision.transforms.Resize((70, 70)),        \n",
    "    torchvision.transforms.CenterCrop((64, 64)),            \n",
    "    torchvision.transforms.ToTensor(),                \n",
    "    torchvision.transforms.Normalize((0.5, 0.5, 0.5), (0.5, 0.5, 0.5))])\n",
    "\n",
    "\n"
   ]
  },
  {
   "cell_type": "code",
   "execution_count": 3,
   "id": "9618c426",
   "metadata": {
    "execution": {
     "iopub.execute_input": "2024-05-01T15:17:30.173003Z",
     "iopub.status.busy": "2024-05-01T15:17:30.172669Z",
     "iopub.status.idle": "2024-05-01T15:17:32.218753Z",
     "shell.execute_reply": "2024-05-01T15:17:32.217893Z"
    },
    "papermill": {
     "duration": 2.055226,
     "end_time": "2024-05-01T15:17:32.221182",
     "exception": false,
     "start_time": "2024-05-01T15:17:30.165956",
     "status": "completed"
    },
    "tags": []
   },
   "outputs": [],
   "source": [
    "from torchvision import datasets, transforms\n",
    "train_dataset = datasets.ImageFolder('/kaggle/input/potholehumpvgg/customdataset/train', transform=train_transforms)\n",
    "test_dataset = datasets.ImageFolder('/kaggle/input/vggtest/vggtest', transform=test_transforms)\n",
    "train_loader = torch.utils.data.DataLoader(train_dataset, batch_size=32, shuffle=True)\n",
    "test_loader = torch.utils.data.DataLoader(test_dataset, batch_size=32, shuffle=False)\n",
    "valid_loader = test_loader"
   ]
  },
  {
   "cell_type": "code",
   "execution_count": 4,
   "id": "7c3e5311",
   "metadata": {
    "execution": {
     "iopub.execute_input": "2024-05-01T15:17:32.233583Z",
     "iopub.status.busy": "2024-05-01T15:17:32.233229Z",
     "iopub.status.idle": "2024-05-01T15:17:32.942436Z",
     "shell.execute_reply": "2024-05-01T15:17:32.941516Z"
    },
    "papermill": {
     "duration": 0.718404,
     "end_time": "2024-05-01T15:17:32.945185",
     "exception": false,
     "start_time": "2024-05-01T15:17:32.226781",
     "status": "completed"
    },
    "tags": []
   },
   "outputs": [
    {
     "name": "stdout",
     "output_type": "stream",
     "text": [
      "Image batch dimensions: torch.Size([32, 3, 64, 64])\n",
      "Image label dimensions: torch.Size([32])\n",
      "Class labels of 10 examples: tensor([0, 0, 0, 0, 1, 0, 1, 0, 1, 0])\n"
     ]
    }
   ],
   "source": [
    "for images, labels in train_loader:  \n",
    "    print('Image batch dimensions:', images.shape)\n",
    "    print('Image label dimensions:', labels.shape)\n",
    "    print('Class labels of 10 examples:', labels[:10])\n",
    "    break"
   ]
  },
  {
   "cell_type": "code",
   "execution_count": 5,
   "id": "8fff4ea0",
   "metadata": {
    "execution": {
     "iopub.execute_input": "2024-05-01T15:17:32.958002Z",
     "iopub.status.busy": "2024-05-01T15:17:32.957662Z",
     "iopub.status.idle": "2024-05-01T15:17:32.983860Z",
     "shell.execute_reply": "2024-05-01T15:17:32.982773Z"
    },
    "papermill": {
     "duration": 0.035432,
     "end_time": "2024-05-01T15:17:32.986249",
     "exception": false,
     "start_time": "2024-05-01T15:17:32.950817",
     "status": "completed"
    },
    "tags": []
   },
   "outputs": [],
   "source": [
    "##########################\n",
    "### MODEL\n",
    "##########################\n",
    "\n",
    "\n",
    "class VGG16(torch.nn.Module):\n",
    "\n",
    "    def __init__(self, num_classes):\n",
    "        super().__init__()\n",
    "        \n",
    "        self.block_1 = torch.nn.Sequential(\n",
    "                torch.nn.Conv2d(in_channels=3,\n",
    "                                out_channels=64,\n",
    "                                kernel_size=(3, 3),\n",
    "                                stride=(1, 1),\n",
    "                                padding=1),\n",
    "                torch.nn.ReLU(),\n",
    "                torch.nn.Conv2d(in_channels=64,\n",
    "                                out_channels=64,\n",
    "                                kernel_size=(3, 3),\n",
    "                                stride=(1, 1),\n",
    "                                padding=1),\n",
    "                torch.nn.ReLU(),\n",
    "                torch.nn.MaxPool2d(kernel_size=(2, 2),\n",
    "                                   stride=(2, 2))\n",
    "        )\n",
    "        \n",
    "        self.block_2 = torch.nn.Sequential(\n",
    "                torch.nn.Conv2d(in_channels=64,\n",
    "                                out_channels=128,\n",
    "                                kernel_size=(3, 3),\n",
    "                                stride=(1, 1),\n",
    "                                padding=1),\n",
    "                torch.nn.ReLU(),\n",
    "                torch.nn.Conv2d(in_channels=128,\n",
    "                                out_channels=128,\n",
    "                                kernel_size=(3, 3),\n",
    "                                stride=(1, 1),\n",
    "                                padding=1),\n",
    "                torch.nn.ReLU(),\n",
    "                torch.nn.MaxPool2d(kernel_size=(2, 2),\n",
    "                                   stride=(2, 2))\n",
    "        )\n",
    "        \n",
    "        self.block_3 = torch.nn.Sequential(        \n",
    "                torch.nn.Conv2d(in_channels=128,\n",
    "                                out_channels=256,\n",
    "                                kernel_size=(3, 3),\n",
    "                                stride=(1, 1),\n",
    "                                padding=1),\n",
    "                torch.nn.ReLU(),\n",
    "                torch.nn.Conv2d(in_channels=256,\n",
    "                                out_channels=256,\n",
    "                                kernel_size=(3, 3),\n",
    "                                stride=(1, 1),\n",
    "                                padding=1),\n",
    "                torch.nn.ReLU(),        \n",
    "                torch.nn.Conv2d(in_channels=256,\n",
    "                                out_channels=256,\n",
    "                                kernel_size=(3, 3),\n",
    "                                stride=(1, 1),\n",
    "                                padding=1),\n",
    "                torch.nn.ReLU(),\n",
    "                torch.nn.MaxPool2d(kernel_size=(2, 2),\n",
    "                                   stride=(2, 2))\n",
    "        )\n",
    "        \n",
    "          \n",
    "        self.block_4 = torch.nn.Sequential(   \n",
    "                torch.nn.Conv2d(in_channels=256,\n",
    "                                out_channels=512,\n",
    "                                kernel_size=(3, 3),\n",
    "                                stride=(1, 1),\n",
    "                                padding=1),\n",
    "                torch.nn.ReLU(),        \n",
    "                torch.nn.Conv2d(in_channels=512,\n",
    "                                out_channels=512,\n",
    "                                kernel_size=(3, 3),\n",
    "                                stride=(1, 1),\n",
    "                                padding=1),\n",
    "                torch.nn.ReLU(),        \n",
    "                torch.nn.Conv2d(in_channels=512,\n",
    "                                out_channels=512,\n",
    "                                kernel_size=(3, 3),\n",
    "                                stride=(1, 1),\n",
    "                                padding=1),\n",
    "                torch.nn.ReLU(),            \n",
    "                torch.nn.MaxPool2d(kernel_size=(2, 2),\n",
    "                                   stride=(2, 2))\n",
    "        )\n",
    "        \n",
    "        self.block_5 = torch.nn.Sequential(\n",
    "                torch.nn.Conv2d(in_channels=512,\n",
    "                                out_channels=512,\n",
    "                                kernel_size=(3, 3),\n",
    "                                stride=(1, 1),\n",
    "                                padding=1),\n",
    "                torch.nn.ReLU(),            \n",
    "                torch.nn.Conv2d(in_channels=512,\n",
    "                                out_channels=512,\n",
    "                                kernel_size=(3, 3),\n",
    "                                stride=(1, 1),\n",
    "                                padding=1),\n",
    "                torch.nn.ReLU(),            \n",
    "                torch.nn.Conv2d(in_channels=512,\n",
    "                                out_channels=512,\n",
    "                                kernel_size=(3, 3),\n",
    "                                stride=(1, 1),\n",
    "                                padding=1),\n",
    "                torch.nn.ReLU(),    \n",
    "                torch.nn.MaxPool2d(kernel_size=(2, 2),\n",
    "                                   stride=(2, 2))             \n",
    "        )\n",
    "            \n",
    "        height, width = 3, 3 ## you may want to change that depending on the input image size\n",
    "        self.classifier = torch.nn.Sequential(\n",
    "            torch.nn.Linear(512*height*width, 4096),\n",
    "            torch.nn.ReLU(True),\n",
    "            torch.nn.Dropout(p=0.5),\n",
    "            torch.nn.Linear(4096, 4096),\n",
    "            torch.nn.ReLU(True),\n",
    "            torch.nn.Dropout(p=0.5),\n",
    "            torch.nn.Linear(4096, num_classes),\n",
    "        )\n",
    "            \n",
    "        for m in self.modules():\n",
    "            if isinstance(m, torch.torch.nn.Conv2d) or isinstance(m, torch.torch.nn.Linear):\n",
    "                torch.nn.init.kaiming_uniform_(m.weight, mode='fan_in', nonlinearity='relu')\n",
    "                if m.bias is not None:\n",
    "                    m.bias.detach().zero_()\n",
    "                    \n",
    "        self.avgpool = torch.nn.AdaptiveAvgPool2d((height, width))\n",
    "        \n",
    "        \n",
    "    def forward(self, x):\n",
    "\n",
    "        x = self.block_1(x)\n",
    "        x = self.block_2(x)\n",
    "        x = self.block_3(x)\n",
    "        x = self.block_4(x)\n",
    "        x = self.block_5(x)\n",
    "        x = self.avgpool(x)\n",
    "        x = x.view(x.size(0), -1) # flatten\n",
    "        \n",
    "        logits = self.classifier(x)\n",
    "        #probas = F.softmax(logits, dim=1)\n",
    "\n",
    "        return logits                  "
   ]
  },
  {
   "cell_type": "code",
   "execution_count": 6,
   "id": "e6b3aded",
   "metadata": {
    "execution": {
     "iopub.execute_input": "2024-05-01T15:17:32.998403Z",
     "iopub.status.busy": "2024-05-01T15:17:32.998110Z",
     "iopub.status.idle": "2024-05-01T15:17:33.048326Z",
     "shell.execute_reply": "2024-05-01T15:17:33.047407Z"
    },
    "papermill": {
     "duration": 0.058655,
     "end_time": "2024-05-01T15:17:33.050288",
     "exception": false,
     "start_time": "2024-05-01T15:17:32.991633",
     "status": "completed"
    },
    "tags": []
   },
   "outputs": [],
   "source": [
    "BATCH_SIZE = 10\n",
    "DEVICE = torch.device('cuda' if torch.cuda.is_available() else 'cpu')\n",
    "device =DEVICE"
   ]
  },
  {
   "cell_type": "code",
   "execution_count": 7,
   "id": "2b6904b5",
   "metadata": {
    "execution": {
     "iopub.execute_input": "2024-05-01T15:17:33.062393Z",
     "iopub.status.busy": "2024-05-01T15:17:33.062079Z",
     "iopub.status.idle": "2024-05-01T15:17:33.066438Z",
     "shell.execute_reply": "2024-05-01T15:17:33.065530Z"
    },
    "papermill": {
     "duration": 0.012591,
     "end_time": "2024-05-01T15:17:33.068482",
     "exception": false,
     "start_time": "2024-05-01T15:17:33.055891",
     "status": "completed"
    },
    "tags": []
   },
   "outputs": [],
   "source": [
    "import torch.nn as nn"
   ]
  },
  {
   "cell_type": "code",
   "execution_count": 8,
   "id": "934161c5",
   "metadata": {
    "execution": {
     "iopub.execute_input": "2024-05-01T15:17:33.080434Z",
     "iopub.status.busy": "2024-05-01T15:17:33.080126Z",
     "iopub.status.idle": "2024-05-01T15:17:33.084448Z",
     "shell.execute_reply": "2024-05-01T15:17:33.083499Z"
    },
    "papermill": {
     "duration": 0.012788,
     "end_time": "2024-05-01T15:17:33.086598",
     "exception": false,
     "start_time": "2024-05-01T15:17:33.073810",
     "status": "completed"
    },
    "tags": []
   },
   "outputs": [],
   "source": [
    "log_interval = 1\n",
    "total_steps = len(train_loader)"
   ]
  },
  {
   "cell_type": "code",
   "execution_count": 9,
   "id": "f961cab2",
   "metadata": {
    "execution": {
     "iopub.execute_input": "2024-05-01T15:17:33.098532Z",
     "iopub.status.busy": "2024-05-01T15:17:33.098210Z",
     "iopub.status.idle": "2024-05-01T17:19:19.134783Z",
     "shell.execute_reply": "2024-05-01T17:19:19.133529Z"
    },
    "papermill": {
     "duration": 7306.049324,
     "end_time": "2024-05-01T17:19:19.141109",
     "exception": false,
     "start_time": "2024-05-01T15:17:33.091785",
     "status": "completed"
    },
    "tags": []
   },
   "outputs": [
    {
     "name": "stdout",
     "output_type": "stream",
     "text": [
      "Epoch [1/100], Loss: 1.1786\n",
      "Accuracy of the network on the 163 validation images: 68.71 %\n",
      "Epoch [2/100], Loss: 0.0064\n",
      "Accuracy of the network on the 163 validation images: 87.12 %\n",
      "Epoch [3/100], Loss: 0.1473\n",
      "Accuracy of the network on the 163 validation images: 90.80 %\n",
      "Epoch [4/100], Loss: 0.0242\n",
      "Accuracy of the network on the 163 validation images: 93.25 %\n",
      "Epoch [5/100], Loss: 0.0007\n",
      "Accuracy of the network on the 163 validation images: 92.02 %\n",
      "Epoch [6/100], Loss: 0.0252\n",
      "Accuracy of the network on the 163 validation images: 93.87 %\n",
      "Epoch [7/100], Loss: 0.0005\n",
      "Accuracy of the network on the 163 validation images: 92.64 %\n",
      "Epoch [8/100], Loss: 0.0028\n",
      "Accuracy of the network on the 163 validation images: 91.41 %\n",
      "Epoch [9/100], Loss: 0.2070\n",
      "Accuracy of the network on the 163 validation images: 92.02 %\n",
      "Epoch [10/100], Loss: 0.0000\n",
      "Accuracy of the network on the 163 validation images: 92.64 %\n",
      "Epoch [11/100], Loss: 0.0009\n",
      "Accuracy of the network on the 163 validation images: 93.87 %\n",
      "Epoch [12/100], Loss: 0.0000\n",
      "Accuracy of the network on the 163 validation images: 93.87 %\n",
      "Epoch [13/100], Loss: 0.0000\n",
      "Accuracy of the network on the 163 validation images: 93.25 %\n",
      "Epoch [14/100], Loss: 0.0001\n",
      "Accuracy of the network on the 163 validation images: 93.25 %\n",
      "Epoch [15/100], Loss: 0.0092\n",
      "Accuracy of the network on the 163 validation images: 93.25 %\n",
      "Epoch [16/100], Loss: 0.0000\n",
      "Accuracy of the network on the 163 validation images: 93.25 %\n",
      "Epoch [17/100], Loss: 0.0000\n",
      "Accuracy of the network on the 163 validation images: 93.25 %\n",
      "Epoch [18/100], Loss: 0.0000\n",
      "Accuracy of the network on the 163 validation images: 94.48 %\n",
      "Epoch [19/100], Loss: 0.0000\n",
      "Accuracy of the network on the 163 validation images: 93.25 %\n",
      "Epoch [20/100], Loss: 0.0005\n",
      "Accuracy of the network on the 163 validation images: 93.25 %\n",
      "Epoch [21/100], Loss: 0.0000\n",
      "Accuracy of the network on the 163 validation images: 93.25 %\n",
      "Epoch [22/100], Loss: 0.0004\n",
      "Accuracy of the network on the 163 validation images: 93.87 %\n",
      "Epoch [23/100], Loss: 0.0000\n",
      "Accuracy of the network on the 163 validation images: 93.25 %\n",
      "Epoch [24/100], Loss: 0.0000\n",
      "Accuracy of the network on the 163 validation images: 93.25 %\n",
      "Epoch [25/100], Loss: 0.0000\n",
      "Accuracy of the network on the 163 validation images: 93.25 %\n",
      "Epoch [26/100], Loss: 0.0000\n",
      "Accuracy of the network on the 163 validation images: 93.25 %\n",
      "Epoch [27/100], Loss: 0.0001\n",
      "Accuracy of the network on the 163 validation images: 93.25 %\n",
      "Epoch [28/100], Loss: 0.0000\n",
      "Accuracy of the network on the 163 validation images: 93.87 %\n",
      "Epoch [29/100], Loss: 0.0000\n",
      "Accuracy of the network on the 163 validation images: 93.25 %\n",
      "Epoch [30/100], Loss: 0.0015\n",
      "Accuracy of the network on the 163 validation images: 93.87 %\n",
      "Epoch [31/100], Loss: 0.0000\n",
      "Accuracy of the network on the 163 validation images: 96.93 %\n",
      "Epoch [32/100], Loss: 0.0006\n",
      "Accuracy of the network on the 163 validation images: 93.25 %\n",
      "Epoch [33/100], Loss: 0.0000\n",
      "Accuracy of the network on the 163 validation images: 94.48 %\n",
      "Epoch [34/100], Loss: 0.0000\n",
      "Accuracy of the network on the 163 validation images: 96.32 %\n",
      "Epoch [35/100], Loss: 0.0000\n",
      "Accuracy of the network on the 163 validation images: 94.48 %\n",
      "Epoch [36/100], Loss: 0.0000\n",
      "Accuracy of the network on the 163 validation images: 93.25 %\n",
      "Epoch [37/100], Loss: 0.0000\n",
      "Accuracy of the network on the 163 validation images: 93.25 %\n",
      "Epoch [38/100], Loss: 0.0000\n",
      "Accuracy of the network on the 163 validation images: 93.87 %\n",
      "Epoch [39/100], Loss: 0.0000\n",
      "Accuracy of the network on the 163 validation images: 93.87 %\n",
      "Epoch [40/100], Loss: 0.0000\n",
      "Accuracy of the network on the 163 validation images: 93.87 %\n",
      "Epoch [41/100], Loss: 0.0000\n",
      "Accuracy of the network on the 163 validation images: 93.87 %\n",
      "Epoch [42/100], Loss: 0.0000\n",
      "Accuracy of the network on the 163 validation images: 93.87 %\n",
      "Epoch [43/100], Loss: 0.0000\n",
      "Accuracy of the network on the 163 validation images: 93.87 %\n",
      "Epoch [44/100], Loss: 0.0000\n",
      "Accuracy of the network on the 163 validation images: 93.87 %\n",
      "Epoch [45/100], Loss: 0.0000\n",
      "Accuracy of the network on the 163 validation images: 93.87 %\n",
      "Epoch [46/100], Loss: 0.0000\n",
      "Accuracy of the network on the 163 validation images: 93.87 %\n",
      "Epoch [47/100], Loss: 0.0000\n",
      "Accuracy of the network on the 163 validation images: 93.87 %\n",
      "Epoch [48/100], Loss: 0.0000\n",
      "Accuracy of the network on the 163 validation images: 93.87 %\n",
      "Epoch [49/100], Loss: 0.0000\n",
      "Accuracy of the network on the 163 validation images: 93.87 %\n",
      "Epoch [50/100], Loss: 0.0000\n",
      "Accuracy of the network on the 163 validation images: 93.87 %\n",
      "Epoch [51/100], Loss: 0.0000\n",
      "Accuracy of the network on the 163 validation images: 93.87 %\n",
      "Epoch [52/100], Loss: 0.0000\n",
      "Accuracy of the network on the 163 validation images: 93.87 %\n",
      "Epoch [53/100], Loss: 0.0000\n",
      "Accuracy of the network on the 163 validation images: 93.87 %\n",
      "Epoch [54/100], Loss: 0.0000\n",
      "Accuracy of the network on the 163 validation images: 93.87 %\n",
      "Epoch [55/100], Loss: 0.0000\n",
      "Accuracy of the network on the 163 validation images: 93.87 %\n",
      "Epoch [56/100], Loss: 0.0000\n",
      "Accuracy of the network on the 163 validation images: 93.87 %\n",
      "Epoch [57/100], Loss: 0.0000\n",
      "Accuracy of the network on the 163 validation images: 93.87 %\n",
      "Epoch [58/100], Loss: 0.0000\n",
      "Accuracy of the network on the 163 validation images: 93.25 %\n",
      "Epoch [59/100], Loss: 0.0000\n",
      "Accuracy of the network on the 163 validation images: 93.87 %\n",
      "Epoch [60/100], Loss: 0.0000\n",
      "Accuracy of the network on the 163 validation images: 93.87 %\n",
      "Epoch [61/100], Loss: 0.0000\n",
      "Accuracy of the network on the 163 validation images: 93.87 %\n",
      "Epoch [62/100], Loss: 0.0000\n",
      "Accuracy of the network on the 163 validation images: 93.87 %\n",
      "Epoch [63/100], Loss: 0.0000\n",
      "Accuracy of the network on the 163 validation images: 93.87 %\n",
      "Epoch [64/100], Loss: 0.0000\n",
      "Accuracy of the network on the 163 validation images: 93.87 %\n",
      "Epoch [65/100], Loss: 0.0000\n",
      "Accuracy of the network on the 163 validation images: 93.87 %\n",
      "Epoch [66/100], Loss: 0.0000\n",
      "Accuracy of the network on the 163 validation images: 93.87 %\n",
      "Epoch [67/100], Loss: 0.0000\n",
      "Accuracy of the network on the 163 validation images: 93.87 %\n",
      "Epoch [68/100], Loss: 0.0000\n",
      "Accuracy of the network on the 163 validation images: 93.87 %\n",
      "Epoch [69/100], Loss: 0.0000\n",
      "Accuracy of the network on the 163 validation images: 93.87 %\n",
      "Epoch [70/100], Loss: 0.0000\n",
      "Accuracy of the network on the 163 validation images: 93.87 %\n",
      "Epoch [71/100], Loss: 0.0000\n",
      "Accuracy of the network on the 163 validation images: 93.87 %\n",
      "Epoch [72/100], Loss: 0.0000\n",
      "Accuracy of the network on the 163 validation images: 93.87 %\n",
      "Epoch [73/100], Loss: 0.0000\n",
      "Accuracy of the network on the 163 validation images: 93.87 %\n",
      "Epoch [74/100], Loss: 0.0000\n",
      "Accuracy of the network on the 163 validation images: 93.87 %\n",
      "Epoch [75/100], Loss: 0.0000\n",
      "Accuracy of the network on the 163 validation images: 93.87 %\n",
      "Epoch [76/100], Loss: 0.0000\n",
      "Accuracy of the network on the 163 validation images: 93.87 %\n",
      "Epoch [77/100], Loss: 0.0000\n",
      "Accuracy of the network on the 163 validation images: 93.87 %\n",
      "Epoch [78/100], Loss: 0.0000\n",
      "Accuracy of the network on the 163 validation images: 93.25 %\n",
      "Epoch [79/100], Loss: 0.0000\n",
      "Accuracy of the network on the 163 validation images: 93.87 %\n",
      "Epoch [80/100], Loss: 0.0000\n",
      "Accuracy of the network on the 163 validation images: 93.87 %\n",
      "Epoch [81/100], Loss: 0.0000\n",
      "Accuracy of the network on the 163 validation images: 93.87 %\n",
      "Epoch [82/100], Loss: 0.0000\n",
      "Accuracy of the network on the 163 validation images: 93.87 %\n",
      "Epoch [83/100], Loss: 0.0000\n",
      "Accuracy of the network on the 163 validation images: 93.87 %\n",
      "Epoch [84/100], Loss: 0.0000\n",
      "Accuracy of the network on the 163 validation images: 93.87 %\n",
      "Epoch [85/100], Loss: 0.0000\n",
      "Accuracy of the network on the 163 validation images: 93.87 %\n",
      "Epoch [86/100], Loss: 0.0000\n",
      "Accuracy of the network on the 163 validation images: 93.87 %\n",
      "Epoch [87/100], Loss: 0.0000\n",
      "Accuracy of the network on the 163 validation images: 93.87 %\n",
      "Epoch [88/100], Loss: 0.0000\n",
      "Accuracy of the network on the 163 validation images: 93.87 %\n",
      "Epoch [89/100], Loss: 0.0000\n",
      "Accuracy of the network on the 163 validation images: 93.87 %\n",
      "Epoch [90/100], Loss: 0.0000\n",
      "Accuracy of the network on the 163 validation images: 93.87 %\n",
      "Epoch [91/100], Loss: 0.0000\n",
      "Accuracy of the network on the 163 validation images: 93.87 %\n",
      "Epoch [92/100], Loss: 0.0000\n",
      "Accuracy of the network on the 163 validation images: 93.87 %\n",
      "Epoch [93/100], Loss: 0.0000\n",
      "Accuracy of the network on the 163 validation images: 93.25 %\n",
      "Epoch [94/100], Loss: 0.0000\n",
      "Accuracy of the network on the 163 validation images: 93.25 %\n",
      "Epoch [95/100], Loss: 0.0000\n",
      "Accuracy of the network on the 163 validation images: 93.25 %\n",
      "Epoch [96/100], Loss: 0.0000\n",
      "Accuracy of the network on the 163 validation images: 93.87 %\n",
      "Epoch [97/100], Loss: 0.0000\n",
      "Accuracy of the network on the 163 validation images: 93.25 %\n",
      "Epoch [98/100], Loss: 0.0000\n",
      "Accuracy of the network on the 163 validation images: 93.25 %\n",
      "Epoch [99/100], Loss: 0.0000\n",
      "Accuracy of the network on the 163 validation images: 93.87 %\n",
      "Epoch [100/100], Loss: 0.0000\n",
      "Accuracy of the network on the 163 validation images: 93.87 %\n",
      "Best model saved with validation accuracy of: 96.93%\n"
     ]
    }
   ],
   "source": [
    "model = VGG16(num_classes=2)\n",
    "\n",
    "model = model.to(DEVICE)\n",
    "\n",
    "optimizer = torch.optim.SGD(model.parameters(), momentum=0.9, lr=0.01)\n",
    "scheduler = torch.optim.lr_scheduler.ReduceLROnPlateau(optimizer,\n",
    "                                                       factor=0.1,\n",
    "                                                       mode='max',\n",
    "                                                       verbose=True)\n",
    "criterion = nn.CrossEntropyLoss()\n",
    "num_epochs = 100\n",
    "\n",
    "\n",
    "# Initialize variables to track best accuracy and corresponding model weights\n",
    "best_accuracy = 0.0\n",
    "best_model_weights = None\n",
    "\n",
    "# Training loop\n",
    "# Training loop\n",
    "for epoch in range(num_epochs):\n",
    "    for i, (images, labels) in enumerate(train_loader):  \n",
    "        # Move tensors to the configured device\n",
    "        images = images.to(device)\n",
    "        labels = labels.to(device)\n",
    "        \n",
    "        # Forward pass\n",
    "        outputs = model(images)\n",
    "        loss = criterion(outputs, labels)\n",
    "        \n",
    "        # Backward and optimize\n",
    "        optimizer.zero_grad()\n",
    "        loss.backward()\n",
    "        optimizer.step()\n",
    "\n",
    "    print ('Epoch [{}/{}], Loss: {:.4f}' \n",
    "                   .format(epoch+1, num_epochs, loss.item()))\n",
    "            \n",
    "    # Validation\n",
    "    with torch.no_grad():\n",
    "        correct = 0\n",
    "        total = 0\n",
    "        for images, labels in valid_loader:\n",
    "            images = images.to(device)\n",
    "            labels = labels.to(device)\n",
    "            outputs = model(images)\n",
    "            _, predicted = torch.max(outputs.data, 1)\n",
    "            total += labels.size(0)\n",
    "            correct += (predicted == labels).sum().item()\n",
    "        \n",
    "        # Calculate validation accuracy\n",
    "        accuracy = 100 * correct / total\n",
    "        \n",
    "        print('Accuracy of the network on the {} validation images: {:.2f} %'.format(total, accuracy))\n",
    "        \n",
    "        # Check if current model is the best so far\n",
    "        if accuracy > best_accuracy:\n",
    "            best_accuracy = accuracy\n",
    "            # Save the current best model weights\n",
    "            best_model_weights = model.state_dict()\n",
    "\n",
    "# Save the best model weights to a file\n",
    "torch.save(best_model_weights, 'best_model.pth')\n",
    "print('Best model saved with validation accuracy of: {:.2f}%'.format(best_accuracy))\n",
    "\n"
   ]
  },
  {
   "cell_type": "code",
   "execution_count": 10,
   "id": "29a4aa40",
   "metadata": {
    "execution": {
     "iopub.execute_input": "2024-05-01T17:19:19.188279Z",
     "iopub.status.busy": "2024-05-01T17:19:19.187913Z",
     "iopub.status.idle": "2024-05-01T17:19:21.342929Z",
     "shell.execute_reply": "2024-05-01T17:19:21.342019Z"
    },
    "papermill": {
     "duration": 2.182298,
     "end_time": "2024-05-01T17:19:21.345660",
     "exception": false,
     "start_time": "2024-05-01T17:19:19.163362",
     "status": "completed"
    },
    "tags": []
   },
   "outputs": [],
   "source": [
    "import numpy as np\n",
    "import matplotlib.pyplot as plt\n",
    "from sklearn.metrics import confusion_matrix, classification_report\n",
    "import seaborn as sns"
   ]
  },
  {
   "cell_type": "code",
   "execution_count": 11,
   "id": "fff8aec1",
   "metadata": {
    "execution": {
     "iopub.execute_input": "2024-05-01T17:19:21.393619Z",
     "iopub.status.busy": "2024-05-01T17:19:21.392609Z",
     "iopub.status.idle": "2024-05-01T17:19:21.397369Z",
     "shell.execute_reply": "2024-05-01T17:19:21.396437Z"
    },
    "papermill": {
     "duration": 0.030355,
     "end_time": "2024-05-01T17:19:21.399296",
     "exception": false,
     "start_time": "2024-05-01T17:19:21.368941",
     "status": "completed"
    },
    "tags": []
   },
   "outputs": [],
   "source": [
    "classes = ['hump', 'pothole']"
   ]
  },
  {
   "cell_type": "code",
   "execution_count": 12,
   "id": "9cb32e55",
   "metadata": {
    "execution": {
     "iopub.execute_input": "2024-05-01T17:19:21.446837Z",
     "iopub.status.busy": "2024-05-01T17:19:21.446427Z",
     "iopub.status.idle": "2024-05-01T17:19:30.575426Z",
     "shell.execute_reply": "2024-05-01T17:19:30.574414Z"
    },
    "papermill": {
     "duration": 9.156225,
     "end_time": "2024-05-01T17:19:30.578028",
     "exception": false,
     "start_time": "2024-05-01T17:19:21.421803",
     "status": "completed"
    },
    "tags": []
   },
   "outputs": [
    {
     "data": {
      "image/png": "[encoded data removed]",
      "text/plain": [
       "<Figure size 1000x800 with 2 Axes>"
      ]
     },
     "metadata": {},
     "output_type": "display_data"
    }
   ],
   "source": [
    "model.eval()  # set the model to evaluation mode\n",
    "\n",
    "# Prepare test data\n",
    "# Assuming test_data and test_targets are your test dataset and its corresponding targets\n",
    "\n",
    "# Perform inference\n",
    "predictions = []\n",
    "true_labels = []\n",
    "\n",
    "with torch.no_grad():\n",
    "    for data, targets in test_loader:\n",
    "        data, targets = data.to('cuda'), targets.to('cuda') \n",
    "        outputs = model(data)\n",
    "        _, predicted = torch.max(outputs, 1)\n",
    "        predictions.extend(predicted.tolist())\n",
    "        true_labels.extend(targets.tolist())\n",
    "\n",
    "# Convert predictions and true labels to numpy arrays\n",
    "predictions = np.array(predictions)\n",
    "true_labels = np.array(true_labels)\n",
    "\n",
    "# Calculate the confusion matrix\n",
    "cm = confusion_matrix(true_labels, predictions)\n",
    "\n",
    "# Plot the confusion matrix\n",
    "plt.figure(figsize=(10, 8))\n",
    "sns.heatmap(cm, annot=True, fmt=\"d\", cmap=\"Blues\", xticklabels=classes, yticklabels=classes)\n",
    "plt.xlabel('Predicted labels')\n",
    "plt.ylabel('True labels')\n",
    "plt.title('Confusion Matrix')\n",
    "plt.show()"
   ]
  },
  {
   "cell_type": "code",
   "execution_count": 13,
   "id": "b752b71a",
   "metadata": {
    "execution": {
     "iopub.execute_input": "2024-05-01T17:19:30.626426Z",
     "iopub.status.busy": "2024-05-01T17:19:30.626021Z",
     "iopub.status.idle": "2024-05-01T17:19:30.641879Z",
     "shell.execute_reply": "2024-05-01T17:19:30.640316Z"
    },
    "papermill": {
     "duration": 0.042904,
     "end_time": "2024-05-01T17:19:30.644084",
     "exception": false,
     "start_time": "2024-05-01T17:19:30.601180",
     "status": "completed"
    },
    "tags": []
   },
   "outputs": [
    {
     "name": "stdout",
     "output_type": "stream",
     "text": [
      "              precision    recall  f1-score   support\n",
      "\n",
      "           0       0.97      0.90      0.94        83\n",
      "           1       0.91      0.97      0.94        80\n",
      "\n",
      "    accuracy                           0.94       163\n",
      "   macro avg       0.94      0.94      0.94       163\n",
      "weighted avg       0.94      0.94      0.94       163\n",
      "\n"
     ]
    }
   ],
   "source": [
    "print(classification_report(true_labels, predictions))"
   ]
  },
  {
   "cell_type": "code",
   "execution_count": 14,
   "id": "928de765",
   "metadata": {
    "execution": {
     "iopub.execute_input": "2024-05-01T17:19:30.691828Z",
     "iopub.status.busy": "2024-05-01T17:19:30.691421Z",
     "iopub.status.idle": "2024-05-01T17:19:31.181506Z",
     "shell.execute_reply": "2024-05-01T17:19:31.180452Z"
    },
    "papermill": {
     "duration": 0.516263,
     "end_time": "2024-05-01T17:19:31.183953",
     "exception": false,
     "start_time": "2024-05-01T17:19:30.667690",
     "status": "completed"
    },
    "tags": []
   },
   "outputs": [
    {
     "name": "stdout",
     "output_type": "stream",
     "text": [
      "Predicted class: pothole\n"
     ]
    }
   ],
   "source": [
    "from PIL import Image\n",
    "\n",
    "# Load the image\n",
    "image_path = '/kaggle/input/potholehumpvgg/customdataset/test/pothole/IMG_6071.jpg'  # Replace 'example.jpg' with the path to your image\n",
    "image = Image.open(image_path)\n",
    "\n",
    "# Preprocess the image\n",
    "transform = transforms.Compose([\n",
    "    torchvision.transforms.Resize((70, 70)),        \n",
    "    torchvision.transforms.CenterCrop((64, 64)),            \n",
    "    torchvision.transforms.ToTensor(),                \n",
    "    torchvision.transforms.Normalize((0.5, 0.5, 0.5), (0.5, 0.5, 0.5))])\n",
    "\n",
    "\n",
    "input_image = transform(image).unsqueeze(0)  # Add a batch dimension\n",
    "\n",
    "\n",
    "model.load_state_dict(torch.load('best_model.pth'))\n",
    "model.eval()  # Set the model to evaluation mode\n",
    "\n",
    "# Perform inference\n",
    "with torch.no_grad():\n",
    "    input_image = input_image.to('cuda')  # Move the input image to GPU if available\n",
    "    output = model(input_image)\n",
    "\n",
    "# Postprocess the output\n",
    "_, predicted = torch.max(output, 1)\n",
    "predicted_class = predicted.item()\n",
    "\n",
    "# Assuming you have a list of class names\n",
    "  # Replace with your class names\n",
    "predicted_label = classes[predicted_class]\n",
    "\n",
    "print('Predicted class:', predicted_label)"
   ]
  },
  {
   "cell_type": "code",
   "execution_count": null,
   "id": "317929c3",
   "metadata": {
    "papermill": {
     "duration": 0.023715,
     "end_time": "2024-05-01T17:19:31.231890",
     "exception": false,
     "start_time": "2024-05-01T17:19:31.208175",
     "status": "completed"
    },
    "tags": []
   },
   "outputs": [],
   "source": []
  }
 ],
 "metadata": {
  "kaggle": {
   "accelerator": "gpu",
   "dataSources": [
    {
     "datasetId": 4889801,
     "sourceId": 8242724,
     "sourceType": "datasetVersion"
    },
    {
     "datasetId": 4909829,
     "sourceId": 8269878,
     "sourceType": "datasetVersion"
    }
   ],
   "dockerImageVersionId": 30699,
   "isGpuEnabled": true,
   "isInternetEnabled": true,
   "language": "python",
   "sourceType": "notebook"
  },
  "kernelspec": {
   "display_name": "Python 3",
   "language": "python",
   "name": "python3"
  },
  "language_info": {
   "codemirror_mode": {
    "name": "ipython",
    "version": 3
   },
   "file_extension": ".py",
   "mimetype": "text/x-python",
   "name": "python",
   "nbconvert_exporter": "python",
   "pygments_lexer": "ipython3",
   "version": "3.10.13"
  },
  "papermill": {
   "default_parameters": {},
   "duration": 7333.631743,
   "end_time": "2024-05-01T17:19:33.658796",
   "environment_variables": {},
   "exception": null,
   "input_path": "__notebook__.ipynb",
   "output_path": "__notebook__.ipynb",
   "parameters": {},
   "start_time": "2024-05-01T15:17:20.027053",
   "version": "2.5.0"
  }
 },
 "nbformat": 4,
 "nbformat_minor": 5
}
