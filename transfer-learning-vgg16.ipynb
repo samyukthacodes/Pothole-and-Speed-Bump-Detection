{
 "cells": [
  {
   "cell_type": "code",
   "execution_count": 1,
   "id": "6748266c",
   "metadata": {
    "_cell_guid": "b1076dfc-b9ad-4769-8c92-a6c4dae69d19",
    "_uuid": "8f2839f25d086af736a60e9eeb907d3b93b6e0e5",
    "execution": {
     "iopub.execute_input": "2024-06-05T13:21:42.646645Z",
     "iopub.status.busy": "2024-06-05T13:21:42.646175Z",
     "iopub.status.idle": "2024-06-05T13:21:47.763293Z",
     "shell.execute_reply": "2024-06-05T13:21:47.762418Z"
    },
    "papermill": {
     "duration": 5.125004,
     "end_time": "2024-06-05T13:21:47.765901",
     "exception": false,
     "start_time": "2024-06-05T13:21:42.640897",
     "status": "completed"
    },
    "tags": []
   },
   "outputs": [],
   "source": [
    "import torch\n",
    "import torch.nn as nn\n",
    "import torch.optim as optim\n",
    "import torchvision.transforms as transforms\n",
    "import torchvision.datasets as datasets\n",
    "import torchvision.models as models\n",
    "import numpy as np\n",
    "import matplotlib.pyplot as plt"
   ]
  },
  {
   "cell_type": "code",
   "execution_count": 2,
   "id": "5fd088bf",
   "metadata": {
    "execution": {
     "iopub.execute_input": "2024-06-05T13:21:47.776799Z",
     "iopub.status.busy": "2024-06-05T13:21:47.775027Z",
     "iopub.status.idle": "2024-06-05T13:21:47.781703Z",
     "shell.execute_reply": "2024-06-05T13:21:47.780817Z"
    },
    "papermill": {
     "duration": 0.013552,
     "end_time": "2024-06-05T13:21:47.783718",
     "exception": false,
     "start_time": "2024-06-05T13:21:47.770166",
     "status": "completed"
    },
    "tags": []
   },
   "outputs": [],
   "source": [
    "transform=transforms.Compose([\n",
    "    transforms.Resize(224),\n",
    "    transforms.CenterCrop(224),\n",
    "    transforms.ToTensor(),\n",
    "    transforms.Normalize(mean=[0.485, 0.456, 0.406], std=[0.229, 0.224, 0.225])\n",
    "])"
   ]
  },
  {
   "cell_type": "code",
   "execution_count": 3,
   "id": "eca49ba4",
   "metadata": {
    "execution": {
     "iopub.execute_input": "2024-06-05T13:21:47.791871Z",
     "iopub.status.busy": "2024-06-05T13:21:47.791308Z",
     "iopub.status.idle": "2024-06-05T13:21:50.260508Z",
     "shell.execute_reply": "2024-06-05T13:21:50.259452Z"
    },
    "papermill": {
     "duration": 2.475899,
     "end_time": "2024-06-05T13:21:50.263030",
     "exception": false,
     "start_time": "2024-06-05T13:21:47.787131",
     "status": "completed"
    },
    "tags": []
   },
   "outputs": [],
   "source": [
    "train_dir = '/kaggle/input/potholehumpvgg/customdataset/train'\n",
    "val_dir = '/kaggle/input/potholehumpvgg/customdataset/test'\n",
    "test_dir = '/kaggle/input/vggtest/vggtest'\n",
    "train_dataset = datasets.ImageFolder(train_dir, transform)\n",
    "val_dataset = datasets.ImageFolder(val_dir, transform)\n",
    "test_dataset = datasets.ImageFolder(test_dir, transform)"
   ]
  },
  {
   "cell_type": "code",
   "execution_count": 4,
   "id": "90b5a69a",
   "metadata": {
    "execution": {
     "iopub.execute_input": "2024-06-05T13:21:50.272304Z",
     "iopub.status.busy": "2024-06-05T13:21:50.271474Z",
     "iopub.status.idle": "2024-06-05T13:21:50.277305Z",
     "shell.execute_reply": "2024-06-05T13:21:50.276399Z"
    },
    "papermill": {
     "duration": 0.012369,
     "end_time": "2024-06-05T13:21:50.279211",
     "exception": false,
     "start_time": "2024-06-05T13:21:50.266842",
     "status": "completed"
    },
    "tags": []
   },
   "outputs": [],
   "source": [
    "train_loader = torch.utils.data.DataLoader(train_dataset, batch_size=32, shuffle=True)\n",
    "val_loader = torch.utils.data.DataLoader(val_dataset, batch_size=32, shuffle=False)\n",
    "test_loader = torch.utils.data.DataLoader(test_dataset, batch_size=32, shuffle=False)"
   ]
  },
  {
   "cell_type": "code",
   "execution_count": 5,
   "id": "6f69e37c",
   "metadata": {
    "execution": {
     "iopub.execute_input": "2024-06-05T13:21:50.287985Z",
     "iopub.status.busy": "2024-06-05T13:21:50.287644Z",
     "iopub.status.idle": "2024-06-05T13:21:55.429220Z",
     "shell.execute_reply": "2024-06-05T13:21:55.428197Z"
    },
    "papermill": {
     "duration": 5.148706,
     "end_time": "2024-06-05T13:21:55.431764",
     "exception": false,
     "start_time": "2024-06-05T13:21:50.283058",
     "status": "completed"
    },
    "tags": []
   },
   "outputs": [
    {
     "name": "stderr",
     "output_type": "stream",
     "text": [
      "/opt/conda/lib/python3.10/site-packages/torchvision/models/_utils.py:208: UserWarning: The parameter 'pretrained' is deprecated since 0.13 and may be removed in the future, please use 'weights' instead.\n",
      "  warnings.warn(\n",
      "/opt/conda/lib/python3.10/site-packages/torchvision/models/_utils.py:223: UserWarning: Arguments other than a weight enum or `None` for 'weights' are deprecated since 0.13 and may be removed in the future. The current behavior is equivalent to passing `weights=VGG16_Weights.IMAGENET1K_V1`. You can also use `weights=VGG16_Weights.DEFAULT` to get the most up-to-date weights.\n",
      "  warnings.warn(msg)\n",
      "Downloading: \"https://download.pytorch.org/models/vgg16-397923af.pth\" to /root/.cache/torch/hub/checkpoints/vgg16-397923af.pth\n",
      "100%|██████████| 528M/528M [00:03<00:00, 169MB/s]\n"
     ]
    }
   ],
   "source": [
    "# Define VGG16 model\n",
    "vgg16 = models.vgg16(pretrained=True)\n",
    "# Modify the last fully connected layer to match the number of classes\n",
    "num_features = vgg16.classifier[6].in_features\n",
    "vgg16.classifier[6] = nn.Linear(num_features, len(train_dataset.classes))\n",
    "\n",
    "# Define loss function and optimizer\n",
    "criterion = nn.CrossEntropyLoss()\n",
    "optimizer = optim.SGD(vgg16.parameters(), lr=0.001, momentum=0.9)\n"
   ]
  },
  {
   "cell_type": "code",
   "execution_count": 6,
   "id": "ac2bdad8",
   "metadata": {
    "execution": {
     "iopub.execute_input": "2024-06-05T13:21:55.446582Z",
     "iopub.status.busy": "2024-06-05T13:21:55.446205Z",
     "iopub.status.idle": "2024-06-05T16:10:49.025452Z",
     "shell.execute_reply": "2024-06-05T16:10:49.024217Z"
    },
    "papermill": {
     "duration": 10133.589216,
     "end_time": "2024-06-05T16:10:49.027651",
     "exception": false,
     "start_time": "2024-06-05T13:21:55.438435",
     "status": "completed"
    },
    "tags": []
   },
   "outputs": [
    {
     "name": "stdout",
     "output_type": "stream",
     "text": [
      "Epoch [1/100], Train Loss: 0.0634\n",
      "Validation Accuracy: 0.9574\n",
      "Epoch [2/100], Train Loss: 0.0049\n",
      "Validation Accuracy: 0.9574\n",
      "Epoch [3/100], Train Loss: 0.0004\n",
      "Validation Accuracy: 0.9787\n",
      "Epoch [4/100], Train Loss: 0.0001\n",
      "Validation Accuracy: 0.9787\n",
      "Epoch [5/100], Train Loss: 0.0001\n",
      "Validation Accuracy: 0.9787\n",
      "Epoch [6/100], Train Loss: 0.0001\n",
      "Validation Accuracy: 0.9787\n",
      "Epoch [7/100], Train Loss: 0.0000\n",
      "Validation Accuracy: 0.9787\n",
      "Epoch [8/100], Train Loss: 0.0000\n",
      "Validation Accuracy: 0.9787\n",
      "Epoch [9/100], Train Loss: 0.0000\n",
      "Validation Accuracy: 0.9787\n",
      "Epoch [10/100], Train Loss: 0.0000\n",
      "Validation Accuracy: 0.9787\n",
      "Epoch [11/100], Train Loss: 0.0000\n",
      "Validation Accuracy: 0.9787\n",
      "Epoch [12/100], Train Loss: 0.0000\n",
      "Validation Accuracy: 0.9787\n",
      "Epoch [13/100], Train Loss: 0.0000\n",
      "Validation Accuracy: 0.9787\n",
      "Epoch [14/100], Train Loss: 0.0000\n",
      "Validation Accuracy: 0.9787\n",
      "Epoch [15/100], Train Loss: 0.0000\n",
      "Validation Accuracy: 0.9787\n",
      "Epoch [16/100], Train Loss: 0.0000\n",
      "Validation Accuracy: 0.9787\n",
      "Epoch [17/100], Train Loss: 0.0000\n",
      "Validation Accuracy: 0.9787\n",
      "Epoch [18/100], Train Loss: 0.0000\n",
      "Validation Accuracy: 0.9787\n",
      "Epoch [19/100], Train Loss: 0.0000\n",
      "Validation Accuracy: 0.9787\n",
      "Epoch [20/100], Train Loss: 0.0000\n",
      "Validation Accuracy: 0.9787\n",
      "Epoch [21/100], Train Loss: 0.0000\n",
      "Validation Accuracy: 0.9787\n",
      "Epoch [22/100], Train Loss: 0.0000\n",
      "Validation Accuracy: 0.9787\n",
      "Epoch [23/100], Train Loss: 0.0000\n",
      "Validation Accuracy: 0.9787\n",
      "Epoch [24/100], Train Loss: 0.0000\n",
      "Validation Accuracy: 0.9787\n",
      "Epoch [25/100], Train Loss: 0.0000\n",
      "Validation Accuracy: 0.9787\n",
      "Epoch [26/100], Train Loss: 0.0000\n",
      "Validation Accuracy: 0.9787\n",
      "Epoch [27/100], Train Loss: 0.0000\n",
      "Validation Accuracy: 0.9787\n",
      "Epoch [28/100], Train Loss: 0.0000\n",
      "Validation Accuracy: 0.9787\n",
      "Epoch [29/100], Train Loss: 0.0000\n",
      "Validation Accuracy: 0.9787\n",
      "Epoch [30/100], Train Loss: 0.0000\n",
      "Validation Accuracy: 0.9787\n",
      "Epoch [31/100], Train Loss: 0.0000\n",
      "Validation Accuracy: 0.9787\n",
      "Epoch [32/100], Train Loss: 0.0000\n",
      "Validation Accuracy: 0.9787\n",
      "Epoch [33/100], Train Loss: 0.0000\n",
      "Validation Accuracy: 0.9787\n",
      "Epoch [34/100], Train Loss: 0.0000\n",
      "Validation Accuracy: 0.9787\n",
      "Epoch [35/100], Train Loss: 0.0000\n",
      "Validation Accuracy: 0.9787\n",
      "Epoch [36/100], Train Loss: 0.0000\n",
      "Validation Accuracy: 0.9787\n",
      "Epoch [37/100], Train Loss: 0.0000\n",
      "Validation Accuracy: 0.9787\n",
      "Epoch [38/100], Train Loss: 0.0000\n",
      "Validation Accuracy: 0.9787\n",
      "Epoch [39/100], Train Loss: 0.0000\n",
      "Validation Accuracy: 0.9787\n",
      "Epoch [40/100], Train Loss: 0.0000\n",
      "Validation Accuracy: 0.9787\n",
      "Epoch [41/100], Train Loss: 0.0000\n",
      "Validation Accuracy: 0.9787\n",
      "Epoch [42/100], Train Loss: 0.0000\n",
      "Validation Accuracy: 0.9787\n",
      "Epoch [43/100], Train Loss: 0.0000\n",
      "Validation Accuracy: 0.9787\n",
      "Epoch [44/100], Train Loss: 0.0000\n",
      "Validation Accuracy: 0.9787\n",
      "Epoch [45/100], Train Loss: 0.0000\n",
      "Validation Accuracy: 0.9787\n",
      "Epoch [46/100], Train Loss: 0.0000\n",
      "Validation Accuracy: 0.9787\n",
      "Epoch [47/100], Train Loss: 0.0000\n",
      "Validation Accuracy: 0.9787\n",
      "Epoch [48/100], Train Loss: 0.0000\n",
      "Validation Accuracy: 0.9787\n",
      "Epoch [49/100], Train Loss: 0.0000\n",
      "Validation Accuracy: 0.9787\n",
      "Epoch [50/100], Train Loss: 0.0000\n",
      "Validation Accuracy: 0.9787\n",
      "Epoch [51/100], Train Loss: 0.0000\n",
      "Validation Accuracy: 0.9787\n",
      "Epoch [52/100], Train Loss: 0.0000\n",
      "Validation Accuracy: 0.9787\n",
      "Epoch [53/100], Train Loss: 0.0000\n",
      "Validation Accuracy: 0.9787\n",
      "Epoch [54/100], Train Loss: 0.0000\n",
      "Validation Accuracy: 0.9787\n",
      "Epoch [55/100], Train Loss: 0.0000\n",
      "Validation Accuracy: 0.9787\n",
      "Epoch [56/100], Train Loss: 0.0000\n",
      "Validation Accuracy: 0.9787\n",
      "Epoch [57/100], Train Loss: 0.0000\n",
      "Validation Accuracy: 0.9787\n",
      "Epoch [58/100], Train Loss: 0.0000\n",
      "Validation Accuracy: 0.9787\n",
      "Epoch [59/100], Train Loss: 0.0000\n",
      "Validation Accuracy: 0.9787\n",
      "Epoch [60/100], Train Loss: 0.0000\n",
      "Validation Accuracy: 0.9787\n",
      "Epoch [61/100], Train Loss: 0.0000\n",
      "Validation Accuracy: 0.9787\n",
      "Epoch [62/100], Train Loss: 0.0000\n",
      "Validation Accuracy: 0.9787\n",
      "Epoch [63/100], Train Loss: 0.0000\n",
      "Validation Accuracy: 0.9787\n",
      "Epoch [64/100], Train Loss: 0.0000\n",
      "Validation Accuracy: 0.9787\n",
      "Epoch [65/100], Train Loss: 0.0000\n",
      "Validation Accuracy: 0.9787\n",
      "Epoch [66/100], Train Loss: 0.0000\n",
      "Validation Accuracy: 0.9787\n",
      "Epoch [67/100], Train Loss: 0.0000\n",
      "Validation Accuracy: 0.9787\n",
      "Epoch [68/100], Train Loss: 0.0000\n",
      "Validation Accuracy: 0.9787\n",
      "Epoch [69/100], Train Loss: 0.0000\n",
      "Validation Accuracy: 0.9787\n",
      "Epoch [70/100], Train Loss: 0.0000\n",
      "Validation Accuracy: 0.9787\n",
      "Epoch [71/100], Train Loss: 0.0000\n",
      "Validation Accuracy: 0.9787\n",
      "Epoch [72/100], Train Loss: 0.0000\n",
      "Validation Accuracy: 0.9787\n",
      "Epoch [73/100], Train Loss: 0.0000\n",
      "Validation Accuracy: 0.9787\n",
      "Epoch [74/100], Train Loss: 0.0000\n",
      "Validation Accuracy: 0.9787\n",
      "Epoch [75/100], Train Loss: 0.0000\n",
      "Validation Accuracy: 0.9787\n",
      "Epoch [76/100], Train Loss: 0.0000\n",
      "Validation Accuracy: 0.9787\n",
      "Epoch [77/100], Train Loss: 0.0000\n",
      "Validation Accuracy: 0.9787\n",
      "Epoch [78/100], Train Loss: 0.0000\n",
      "Validation Accuracy: 0.9787\n",
      "Epoch [79/100], Train Loss: 0.0000\n",
      "Validation Accuracy: 0.9787\n",
      "Epoch [80/100], Train Loss: 0.0000\n",
      "Validation Accuracy: 0.9787\n",
      "Epoch [81/100], Train Loss: 0.0000\n",
      "Validation Accuracy: 0.9787\n",
      "Epoch [82/100], Train Loss: 0.0000\n",
      "Validation Accuracy: 0.9787\n",
      "Epoch [83/100], Train Loss: 0.0000\n",
      "Validation Accuracy: 0.9787\n",
      "Epoch [84/100], Train Loss: 0.0000\n",
      "Validation Accuracy: 0.9787\n",
      "Epoch [85/100], Train Loss: 0.0000\n",
      "Validation Accuracy: 0.9787\n",
      "Epoch [86/100], Train Loss: 0.0000\n",
      "Validation Accuracy: 0.9787\n",
      "Epoch [87/100], Train Loss: 0.0000\n",
      "Validation Accuracy: 0.9787\n",
      "Epoch [88/100], Train Loss: 0.0000\n",
      "Validation Accuracy: 0.9787\n",
      "Epoch [89/100], Train Loss: 0.0000\n",
      "Validation Accuracy: 0.9787\n",
      "Epoch [90/100], Train Loss: 0.0000\n",
      "Validation Accuracy: 0.9787\n",
      "Epoch [91/100], Train Loss: 0.0000\n",
      "Validation Accuracy: 0.9787\n",
      "Epoch [92/100], Train Loss: 0.0000\n",
      "Validation Accuracy: 0.9787\n",
      "Epoch [93/100], Train Loss: 0.0000\n",
      "Validation Accuracy: 0.9787\n",
      "Epoch [94/100], Train Loss: 0.0000\n",
      "Validation Accuracy: 0.9787\n",
      "Epoch [95/100], Train Loss: 0.0000\n",
      "Validation Accuracy: 0.9787\n",
      "Epoch [96/100], Train Loss: 0.0000\n",
      "Validation Accuracy: 0.9787\n",
      "Epoch [97/100], Train Loss: 0.0000\n",
      "Validation Accuracy: 0.9787\n",
      "Epoch [98/100], Train Loss: 0.0000\n",
      "Validation Accuracy: 0.9787\n",
      "Epoch [99/100], Train Loss: 0.0000\n",
      "Validation Accuracy: 0.9787\n",
      "Epoch [100/100], Train Loss: 0.0000\n",
      "Validation Accuracy: 0.9787\n"
     ]
    }
   ],
   "source": [
    "# Train the model\n",
    "num_epochs = 100\n",
    "best_val_accuracy = 0.0\n",
    "device = torch.device(\"cuda:0\" if torch.cuda.is_available() else \"cpu\")\n",
    "vgg16 = vgg16.to(device)\n",
    "\n",
    "for epoch in range(num_epochs):\n",
    "    vgg16.train()\n",
    "    running_loss = 0.0\n",
    "    for inputs, labels in train_loader:\n",
    "        inputs, labels = inputs.to(device), labels.to(device)\n",
    "        optimizer.zero_grad()\n",
    "        outputs = vgg16(inputs)\n",
    "        loss = criterion(outputs, labels)\n",
    "        loss.backward()\n",
    "        optimizer.step()\n",
    "        running_loss += loss.item() * inputs.size(0)\n",
    "    \n",
    "    epoch_loss = running_loss / len(train_dataset)\n",
    "    print(f\"Epoch [{epoch+1}/{num_epochs}], Train Loss: {epoch_loss:.4f}\")\n",
    "    \n",
    "     # Validation\n",
    "    vgg16.eval()\n",
    "    correct = 0\n",
    "    total = 0\n",
    "    with torch.no_grad():\n",
    "        for inputs, labels in val_loader:\n",
    "            inputs, labels = inputs.to(device), labels.to(device)\n",
    "            outputs = vgg16(inputs)\n",
    "            _, predicted = torch.max(outputs, 1)\n",
    "            total += labels.size(0)\n",
    "            correct += (predicted == labels).sum().item()\n",
    "\n",
    "    val_accuracy = correct / total\n",
    "    print(f\"Validation Accuracy: {val_accuracy:.4f}\")\n",
    "\n",
    "    # Save the model if validation accuracy is improved\n",
    "    if val_accuracy > best_val_accuracy:\n",
    "        best_val_accuracy = val_accuracy\n",
    "        torch.save(vgg16.state_dict(), 'best_model.pth')\n"
   ]
  },
  {
   "cell_type": "code",
   "execution_count": 7,
   "id": "44334ac6",
   "metadata": {
    "execution": {
     "iopub.execute_input": "2024-06-05T16:10:49.074339Z",
     "iopub.status.busy": "2024-06-05T16:10:49.073715Z",
     "iopub.status.idle": "2024-06-05T16:10:51.009934Z",
     "shell.execute_reply": "2024-06-05T16:10:51.009117Z"
    },
    "papermill": {
     "duration": 1.962446,
     "end_time": "2024-06-05T16:10:51.012447",
     "exception": false,
     "start_time": "2024-06-05T16:10:49.050001",
     "status": "completed"
    },
    "tags": []
   },
   "outputs": [],
   "source": [
    "import numpy as np\n",
    "import matplotlib.pyplot as plt\n",
    "from sklearn.metrics import confusion_matrix, classification_report\n",
    "import seaborn as sns"
   ]
  },
  {
   "cell_type": "code",
   "execution_count": 8,
   "id": "98f43291",
   "metadata": {
    "execution": {
     "iopub.execute_input": "2024-06-05T16:10:51.060328Z",
     "iopub.status.busy": "2024-06-05T16:10:51.059798Z",
     "iopub.status.idle": "2024-06-05T16:10:51.064289Z",
     "shell.execute_reply": "2024-06-05T16:10:51.063461Z"
    },
    "papermill": {
     "duration": 0.031351,
     "end_time": "2024-06-05T16:10:51.066189",
     "exception": false,
     "start_time": "2024-06-05T16:10:51.034838",
     "status": "completed"
    },
    "tags": []
   },
   "outputs": [],
   "source": [
    "classes = ['hump', 'pothole']"
   ]
  },
  {
   "cell_type": "code",
   "execution_count": 9,
   "id": "98be3970",
   "metadata": {
    "execution": {
     "iopub.execute_input": "2024-06-05T16:10:51.110761Z",
     "iopub.status.busy": "2024-06-05T16:10:51.110185Z",
     "iopub.status.idle": "2024-06-05T16:11:00.791072Z",
     "shell.execute_reply": "2024-06-05T16:11:00.789824Z"
    },
    "papermill": {
     "duration": 9.705404,
     "end_time": "2024-06-05T16:11:00.793117",
     "exception": false,
     "start_time": "2024-06-05T16:10:51.087713",
     "status": "completed"
    },
    "tags": []
   },
   "outputs": [
    {
     "name": "stdout",
     "output_type": "stream",
     "text": [
      "Test Accuracy: 0.9939\n"
     ]
    }
   ],
   "source": [
    "# Test the best model\n",
    "vgg16.load_state_dict(torch.load('best_model.pth'))\n",
    "vgg16.eval()\n",
    "correct = 0\n",
    "total = 0\n",
    "predictions = []\n",
    "true_labels = []\n",
    "with torch.no_grad():\n",
    "    for inputs, labels in test_loader:\n",
    "        inputs, labels = inputs.to(device), labels.to(device)\n",
    "        outputs = vgg16(inputs)\n",
    "        _, predicted = torch.max(outputs, 1)\n",
    "        total += labels.size(0)\n",
    "        correct += (predicted == labels).sum().item()\n",
    "        predictions.extend(predicted.tolist())\n",
    "        true_labels.extend(labels.tolist())\n",
    "\n",
    "# Convert predictions and true labels to numpy arrays\n",
    "predictions = np.array(predictions)\n",
    "true_labels = np.array(true_labels)\n",
    "\n",
    "\n",
    "\n",
    "test_accuracy = correct / total\n",
    "print(f\"Test Accuracy: {test_accuracy:.4f}\")"
   ]
  },
  {
   "cell_type": "code",
   "execution_count": 10,
   "id": "6b6141c5",
   "metadata": {
    "execution": {
     "iopub.execute_input": "2024-06-05T16:11:00.839509Z",
     "iopub.status.busy": "2024-06-05T16:11:00.839163Z",
     "iopub.status.idle": "2024-06-05T16:11:01.170978Z",
     "shell.execute_reply": "2024-06-05T16:11:01.170096Z"
    },
    "papermill": {
     "duration": 0.357985,
     "end_time": "2024-06-05T16:11:01.173234",
     "exception": false,
     "start_time": "2024-06-05T16:11:00.815249",
     "status": "completed"
    },
    "tags": []
   },
   "outputs": [
    {
     "data": {
      "image/png": "[encoded data removed]",
      "text/plain": [
       "<Figure size 1000x800 with 2 Axes>"
      ]
     },
     "metadata": {},
     "output_type": "display_data"
    }
   ],
   "source": [
    "\n",
    "# Calculate the confusion matrix\n",
    "cm = confusion_matrix(true_labels, predictions)\n",
    "\n",
    "# Plot the confusion matrix\n",
    "plt.figure(figsize=(10, 8))\n",
    "sns.heatmap(cm, annot=True, fmt=\"d\", cmap=\"Blues\", xticklabels=classes, yticklabels=classes)\n",
    "plt.xlabel('Predicted labels')\n",
    "plt.ylabel('True labels')\n",
    "plt.title('Confusion Matrix')\n",
    "plt.show()"
   ]
  },
  {
   "cell_type": "code",
   "execution_count": 11,
   "id": "6d28de4f",
   "metadata": {
    "execution": {
     "iopub.execute_input": "2024-06-05T16:11:01.220221Z",
     "iopub.status.busy": "2024-06-05T16:11:01.219915Z",
     "iopub.status.idle": "2024-06-05T16:11:01.234300Z",
     "shell.execute_reply": "2024-06-05T16:11:01.233209Z"
    },
    "papermill": {
     "duration": 0.04053,
     "end_time": "2024-06-05T16:11:01.236535",
     "exception": false,
     "start_time": "2024-06-05T16:11:01.196005",
     "status": "completed"
    },
    "tags": []
   },
   "outputs": [
    {
     "name": "stdout",
     "output_type": "stream",
     "text": [
      "              precision    recall  f1-score   support\n",
      "\n",
      "           0       1.00      0.99      0.99        83\n",
      "           1       0.99      1.00      0.99        80\n",
      "\n",
      "    accuracy                           0.99       163\n",
      "   macro avg       0.99      0.99      0.99       163\n",
      "weighted avg       0.99      0.99      0.99       163\n",
      "\n"
     ]
    }
   ],
   "source": [
    "print(classification_report(true_labels, predictions))"
   ]
  }
 ],
 "metadata": {
  "kaggle": {
   "accelerator": "gpu",
   "dataSources": [
    {
     "datasetId": 4889801,
     "sourceId": 8242724,
     "sourceType": "datasetVersion"
    },
    {
     "datasetId": 4909829,
     "sourceId": 8269878,
     "sourceType": "datasetVersion"
    }
   ],
   "dockerImageVersionId": 30733,
   "isGpuEnabled": true,
   "isInternetEnabled": true,
   "language": "python",
   "sourceType": "notebook"
  },
  "kernelspec": {
   "display_name": "Python 3",
   "language": "python",
   "name": "python3"
  },
  "language_info": {
   "codemirror_mode": {
    "name": "ipython",
    "version": 3
   },
   "file_extension": ".py",
   "mimetype": "text/x-python",
   "name": "python",
   "nbconvert_exporter": "python",
   "pygments_lexer": "ipython3",
   "version": "3.10.13"
  },
  "papermill": {
   "default_parameters": {},
   "duration": 10163.672966,
   "end_time": "2024-06-05T16:11:03.560316",
   "environment_variables": {},
   "exception": null,
   "input_path": "__notebook__.ipynb",
   "output_path": "__notebook__.ipynb",
   "parameters": {},
   "start_time": "2024-06-05T13:21:39.887350",
   "version": "2.5.0"
  }
 },
 "nbformat": 4,
 "nbformat_minor": 5
}
