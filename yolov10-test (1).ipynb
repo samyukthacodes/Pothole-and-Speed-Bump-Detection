{
 "cells": [
  {
   "cell_type": "code",
   "execution_count": 1,
   "id": "a85b98b2",
   "metadata": {
    "_cell_guid": "b1076dfc-b9ad-4769-8c92-a6c4dae69d19",
    "_uuid": "8f2839f25d086af736a60e9eeb907d3b93b6e0e5",
    "execution": {
     "iopub.execute_input": "2024-06-06T14:46:55.457558Z",
     "iopub.status.busy": "2024-06-06T14:46:55.457088Z",
     "iopub.status.idle": "2024-06-06T14:47:47.855177Z",
     "shell.execute_reply": "2024-06-06T14:47:47.853587Z"
    },
    "papermill": {
     "duration": 52.406219,
     "end_time": "2024-06-06T14:47:47.858484",
     "exception": false,
     "start_time": "2024-06-06T14:46:55.452265",
     "status": "completed"
    },
    "tags": []
   },
   "outputs": [],
   "source": [
    "!pip install -q supervision\n",
    "!pip install -q git+https://github.com/THU-MIG/yolov10.git"
   ]
  },
  {
   "cell_type": "code",
   "execution_count": 2,
   "id": "0acdfad7",
   "metadata": {
    "execution": {
     "iopub.execute_input": "2024-06-06T14:47:47.866820Z",
     "iopub.status.busy": "2024-06-06T14:47:47.865839Z",
     "iopub.status.idle": "2024-06-06T14:47:54.790187Z",
     "shell.execute_reply": "2024-06-06T14:47:54.789046Z"
    },
    "papermill": {
     "duration": 6.931779,
     "end_time": "2024-06-06T14:47:54.793384",
     "exception": false,
     "start_time": "2024-06-06T14:47:47.861605",
     "status": "completed"
    },
    "tags": []
   },
   "outputs": [],
   "source": [
    "from ultralytics import YOLOv10\n",
    "\n",
    "model = YOLOv10('/kaggle/input/yolo-v10-pothole-and-hump/potholev10custom100epoch/train/weights/best.pt')"
   ]
  },
  {
   "cell_type": "code",
   "execution_count": 3,
   "id": "6ac7ed1c",
   "metadata": {
    "execution": {
     "iopub.execute_input": "2024-06-06T14:47:54.800648Z",
     "iopub.status.busy": "2024-06-06T14:47:54.800103Z",
     "iopub.status.idle": "2024-06-06T14:47:54.807253Z",
     "shell.execute_reply": "2024-06-06T14:47:54.806211Z"
    },
    "papermill": {
     "duration": 0.014647,
     "end_time": "2024-06-06T14:47:54.810790",
     "exception": false,
     "start_time": "2024-06-06T14:47:54.796143",
     "status": "completed"
    },
    "tags": []
   },
   "outputs": [
    {
     "name": "stdout",
     "output_type": "stream",
     "text": [
      "Writing pothole.yaml\n"
     ]
    }
   ],
   "source": [
    "%%writefile pothole.yaml\n",
    "\n",
    "path: /kaggle/working\n",
    "\n",
    "train: /kaggle/input/potholoehump/potholecustom/train/images\n",
    "val: /kaggle/input/potholehumpyolotest/potholehumptestyolo/images\n",
    "    \n",
    "nc: 2\n",
    "\n",
    "names: \n",
    "  0: Pothole  \n",
    "  1: Hump"
   ]
  },
  {
   "cell_type": "code",
   "execution_count": 4,
   "id": "822e2b96",
   "metadata": {
    "execution": {
     "iopub.execute_input": "2024-06-06T14:47:54.818885Z",
     "iopub.status.busy": "2024-06-06T14:47:54.818439Z",
     "iopub.status.idle": "2024-06-06T14:48:40.735472Z",
     "shell.execute_reply": "2024-06-06T14:48:40.734399Z"
    },
    "papermill": {
     "duration": 45.923989,
     "end_time": "2024-06-06T14:48:40.738130",
     "exception": false,
     "start_time": "2024-06-06T14:47:54.814141",
     "status": "completed"
    },
    "tags": []
   },
   "outputs": [
    {
     "name": "stdout",
     "output_type": "stream",
     "text": [
      "Ultralytics YOLOv8.1.34 🚀 Python-3.10.13 torch-2.1.2+cpu CPU (Intel Xeon 2.20GHz)\n",
      "YOLOv10n summary (fused): 285 layers, 2695196 parameters, 0 gradients, 8.2 GFLOPs\n",
      "Downloading https://ultralytics.com/assets/Arial.ttf to '/root/.config/yolov10/Arial.ttf'...\n"
     ]
    },
    {
     "name": "stderr",
     "output_type": "stream",
     "text": [
      "100%|██████████| 755k/755k [00:00<00:00, 4.05MB/s]\n",
      "\u001b[34m\u001b[1mval: \u001b[0mScanning /kaggle/input/potholehumpyolotest/potholehumptestyolo/labels... 163 images, 0 backgrounds, 0 corrupt: 100%|██████████| 163/163 [00:00<00:00, 176.89it/s]"
     ]
    },
    {
     "name": "stdout",
     "output_type": "stream",
     "text": [
      "\u001b[34m\u001b[1mval: \u001b[0mWARNING ⚠️ Cache directory /kaggle/input/potholehumpyolotest/potholehumptestyolo is not writeable, cache not saved.\n"
     ]
    },
    {
     "name": "stderr",
     "output_type": "stream",
     "text": [
      "\n",
      "                 Class     Images  Instances      Box(P          R      mAP50  mAP50-95):  64%|██████▎   | 7/11 [00:22<00:12,  3.25s/it]libpng warning: cHRM: invalid chromaticities\n",
      "libpng warning: cHRM: invalid chromaticities\n",
      "libpng warning: cHRM: invalid chromaticities\n",
      "libpng warning: cHRM: invalid chromaticities\n",
      "libpng warning: cHRM: invalid chromaticities\n",
      "libpng warning: cHRM: invalid chromaticities\n",
      "libpng warning: cHRM: invalid chromaticities\n",
      "libpng warning: cHRM: invalid chromaticities\n",
      "libpng warning: cHRM: invalid chromaticities\n",
      "                 Class     Images  Instances      Box(P          R      mAP50  mAP50-95):  73%|███████▎  | 8/11 [00:25<00:09,  3.24s/it]libpng warning: cHRM: invalid chromaticities\n",
      "libpng warning: cHRM: invalid chromaticities\n",
      "libpng warning: cHRM: invalid chromaticities\n",
      "libpng warning: cHRM: invalid chromaticities\n",
      "libpng warning: cHRM: invalid chromaticities\n",
      "libpng warning: cHRM: invalid chromaticities\n",
      "libpng warning: cHRM: invalid chromaticities\n",
      "libpng warning: cHRM: invalid chromaticities\n",
      "                 Class     Images  Instances      Box(P          R      mAP50  mAP50-95): 100%|██████████| 11/11 [00:33<00:00,  3.04s/it]\n"
     ]
    },
    {
     "name": "stdout",
     "output_type": "stream",
     "text": [
      "                   all        163        261       0.72      0.662      0.747      0.416\n",
      "               Pothole        163        161      0.737      0.615      0.727       0.36\n",
      "                  Hump        163        100      0.703       0.71      0.767      0.472\n",
      "Speed: 2.6ms preprocess, 156.5ms inference, 0.0ms loss, 0.4ms postprocess per image\n",
      "Results saved to \u001b[1mruns/detect/val\u001b[0m\n"
     ]
    }
   ],
   "source": [
    "metrics = model.val(data = 'pothole.yaml')"
   ]
  }
 ],
 "metadata": {
  "kaggle": {
   "accelerator": "none",
   "dataSources": [
    {
     "datasetId": 4909116,
     "sourceId": 8268973,
     "sourceType": "datasetVersion"
    },
    {
     "sourceId": 181632330,
     "sourceType": "kernelVersion"
    }
   ],
   "dockerImageVersionId": 30732,
   "isGpuEnabled": false,
   "isInternetEnabled": true,
   "language": "python",
   "sourceType": "notebook"
  },
  "kernelspec": {
   "display_name": "Python 3",
   "language": "python",
   "name": "python3"
  },
  "language_info": {
   "codemirror_mode": {
    "name": "ipython",
    "version": 3
   },
   "file_extension": ".py",
   "mimetype": "text/x-python",
   "name": "python",
   "nbconvert_exporter": "python",
   "pygments_lexer": "ipython3",
   "version": "3.10.13"
  },
  "papermill": {
   "default_parameters": {},
   "duration": 109.495481,
   "end_time": "2024-06-06T14:48:41.969048",
   "environment_variables": {},
   "exception": null,
   "input_path": "__notebook__.ipynb",
   "output_path": "__notebook__.ipynb",
   "parameters": {},
   "start_time": "2024-06-06T14:46:52.473567",
   "version": "2.5.0"
  }
 },
 "nbformat": 4,
 "nbformat_minor": 5
}
