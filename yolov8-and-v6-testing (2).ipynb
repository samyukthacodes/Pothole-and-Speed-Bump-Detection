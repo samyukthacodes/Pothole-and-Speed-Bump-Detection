{
 "cells": [
  {
   "cell_type": "code",
   "execution_count": 1,
   "id": "a85282ad",
   "metadata": {
    "_cell_guid": "b1076dfc-b9ad-4769-8c92-a6c4dae69d19",
    "_uuid": "8f2839f25d086af736a60e9eeb907d3b93b6e0e5",
    "execution": {
     "iopub.execute_input": "2024-04-30T06:05:54.175908Z",
     "iopub.status.busy": "2024-04-30T06:05:54.175337Z",
     "iopub.status.idle": "2024-04-30T06:06:08.356544Z",
     "shell.execute_reply": "2024-04-30T06:06:08.355401Z"
    },
    "papermill": {
     "duration": 14.187882,
     "end_time": "2024-04-30T06:06:08.359070",
     "exception": false,
     "start_time": "2024-04-30T06:05:54.171188",
     "status": "completed"
    },
    "tags": []
   },
   "outputs": [
    {
     "name": "stdout",
     "output_type": "stream",
     "text": [
      "Collecting ultralytics\r\n",
      "  Downloading ultralytics-8.2.5-py3-none-any.whl.metadata (40 kB)\r\n",
      "\u001b[2K     \u001b[90m━━━━━━━━━━━━━━━━━━━━━━━━━━━━━━━━━━━━━━━━\u001b[0m \u001b[32m40.6/40.6 kB\u001b[0m \u001b[31m1.8 MB/s\u001b[0m eta \u001b[36m0:00:00\u001b[0m\r\n",
      "\u001b[?25hRequirement already satisfied: matplotlib>=3.3.0 in /opt/conda/lib/python3.10/site-packages (from ultralytics) (3.7.5)\r\n",
      "Requirement already satisfied: opencv-python>=4.6.0 in /opt/conda/lib/python3.10/site-packages (from ultralytics) (4.9.0.80)\r\n",
      "Requirement already satisfied: pillow>=7.1.2 in /opt/conda/lib/python3.10/site-packages (from ultralytics) (9.5.0)\r\n",
      "Requirement already satisfied: pyyaml>=5.3.1 in /opt/conda/lib/python3.10/site-packages (from ultralytics) (6.0.1)\r\n",
      "Requirement already satisfied: requests>=2.23.0 in /opt/conda/lib/python3.10/site-packages (from ultralytics) (2.31.0)\r\n",
      "Requirement already satisfied: scipy>=1.4.1 in /opt/conda/lib/python3.10/site-packages (from ultralytics) (1.11.4)\r\n",
      "Requirement already satisfied: torch>=1.8.0 in /opt/conda/lib/python3.10/site-packages (from ultralytics) (2.1.2)\r\n",
      "Requirement already satisfied: torchvision>=0.9.0 in /opt/conda/lib/python3.10/site-packages (from ultralytics) (0.16.2)\r\n",
      "Requirement already satisfied: tqdm>=4.64.0 in /opt/conda/lib/python3.10/site-packages (from ultralytics) (4.66.1)\r\n",
      "Requirement already satisfied: psutil in /opt/conda/lib/python3.10/site-packages (from ultralytics) (5.9.3)\r\n",
      "Requirement already satisfied: py-cpuinfo in /opt/conda/lib/python3.10/site-packages (from ultralytics) (9.0.0)\r\n",
      "Collecting thop>=0.1.1 (from ultralytics)\r\n",
      "  Downloading thop-0.1.1.post2209072238-py3-none-any.whl.metadata (2.7 kB)\r\n",
      "Requirement already satisfied: pandas>=1.1.4 in /opt/conda/lib/python3.10/site-packages (from ultralytics) (2.1.4)\r\n",
      "Requirement already satisfied: seaborn>=0.11.0 in /opt/conda/lib/python3.10/site-packages (from ultralytics) (0.12.2)\r\n",
      "Requirement already satisfied: contourpy>=1.0.1 in /opt/conda/lib/python3.10/site-packages (from matplotlib>=3.3.0->ultralytics) (1.2.0)\r\n",
      "Requirement already satisfied: cycler>=0.10 in /opt/conda/lib/python3.10/site-packages (from matplotlib>=3.3.0->ultralytics) (0.12.1)\r\n",
      "Requirement already satisfied: fonttools>=4.22.0 in /opt/conda/lib/python3.10/site-packages (from matplotlib>=3.3.0->ultralytics) (4.47.0)\r\n",
      "Requirement already satisfied: kiwisolver>=1.0.1 in /opt/conda/lib/python3.10/site-packages (from matplotlib>=3.3.0->ultralytics) (1.4.5)\r\n",
      "Requirement already satisfied: numpy<2,>=1.20 in /opt/conda/lib/python3.10/site-packages (from matplotlib>=3.3.0->ultralytics) (1.26.4)\r\n",
      "Requirement already satisfied: packaging>=20.0 in /opt/conda/lib/python3.10/site-packages (from matplotlib>=3.3.0->ultralytics) (21.3)\r\n",
      "Requirement already satisfied: pyparsing>=2.3.1 in /opt/conda/lib/python3.10/site-packages (from matplotlib>=3.3.0->ultralytics) (3.1.1)\r\n",
      "Requirement already satisfied: python-dateutil>=2.7 in /opt/conda/lib/python3.10/site-packages (from matplotlib>=3.3.0->ultralytics) (2.9.0.post0)\r\n",
      "Requirement already satisfied: pytz>=2020.1 in /opt/conda/lib/python3.10/site-packages (from pandas>=1.1.4->ultralytics) (2023.3.post1)\r\n",
      "Requirement already satisfied: tzdata>=2022.1 in /opt/conda/lib/python3.10/site-packages (from pandas>=1.1.4->ultralytics) (2023.4)\r\n",
      "Requirement already satisfied: charset-normalizer<4,>=2 in /opt/conda/lib/python3.10/site-packages (from requests>=2.23.0->ultralytics) (3.3.2)\r\n",
      "Requirement already satisfied: idna<4,>=2.5 in /opt/conda/lib/python3.10/site-packages (from requests>=2.23.0->ultralytics) (3.6)\r\n",
      "Requirement already satisfied: urllib3<3,>=1.21.1 in /opt/conda/lib/python3.10/site-packages (from requests>=2.23.0->ultralytics) (1.26.18)\r\n",
      "Requirement already satisfied: certifi>=2017.4.17 in /opt/conda/lib/python3.10/site-packages (from requests>=2.23.0->ultralytics) (2024.2.2)\r\n",
      "Requirement already satisfied: filelock in /opt/conda/lib/python3.10/site-packages (from torch>=1.8.0->ultralytics) (3.13.1)\r\n",
      "Requirement already satisfied: typing-extensions in /opt/conda/lib/python3.10/site-packages (from torch>=1.8.0->ultralytics) (4.9.0)\r\n",
      "Requirement already satisfied: sympy in /opt/conda/lib/python3.10/site-packages (from torch>=1.8.0->ultralytics) (1.12)\r\n",
      "Requirement already satisfied: networkx in /opt/conda/lib/python3.10/site-packages (from torch>=1.8.0->ultralytics) (3.2.1)\r\n",
      "Requirement already satisfied: jinja2 in /opt/conda/lib/python3.10/site-packages (from torch>=1.8.0->ultralytics) (3.1.2)\r\n",
      "Requirement already satisfied: fsspec in /opt/conda/lib/python3.10/site-packages (from torch>=1.8.0->ultralytics) (2024.2.0)\r\n",
      "Requirement already satisfied: six>=1.5 in /opt/conda/lib/python3.10/site-packages (from python-dateutil>=2.7->matplotlib>=3.3.0->ultralytics) (1.16.0)\r\n",
      "Requirement already satisfied: MarkupSafe>=2.0 in /opt/conda/lib/python3.10/site-packages (from jinja2->torch>=1.8.0->ultralytics) (2.1.3)\r\n",
      "Requirement already satisfied: mpmath>=0.19 in /opt/conda/lib/python3.10/site-packages (from sympy->torch>=1.8.0->ultralytics) (1.3.0)\r\n",
      "Downloading ultralytics-8.2.5-py3-none-any.whl (754 kB)\r\n",
      "\u001b[2K   \u001b[90m━━━━━━━━━━━━━━━━━━━━━━━━━━━━━━━━━━━━━━━━\u001b[0m \u001b[32m755.0/755.0 kB\u001b[0m \u001b[31m17.8 MB/s\u001b[0m eta \u001b[36m0:00:00\u001b[0m\r\n",
      "\u001b[?25hDownloading thop-0.1.1.post2209072238-py3-none-any.whl (15 kB)\r\n",
      "Installing collected packages: thop, ultralytics\r\n",
      "Successfully installed thop-0.1.1.post2209072238 ultralytics-8.2.5\r\n"
     ]
    }
   ],
   "source": [
    "!pip install ultralytics"
   ]
  },
  {
   "cell_type": "code",
   "execution_count": 2,
   "id": "94c9c2a7",
   "metadata": {
    "execution": {
     "iopub.execute_input": "2024-04-30T06:06:08.369259Z",
     "iopub.status.busy": "2024-04-30T06:06:08.368900Z",
     "iopub.status.idle": "2024-04-30T06:06:08.375571Z",
     "shell.execute_reply": "2024-04-30T06:06:08.374673Z"
    },
    "papermill": {
     "duration": 0.013692,
     "end_time": "2024-04-30T06:06:08.377505",
     "exception": false,
     "start_time": "2024-04-30T06:06:08.363813",
     "status": "completed"
    },
    "tags": []
   },
   "outputs": [
    {
     "name": "stdout",
     "output_type": "stream",
     "text": [
      "Writing pothole.yaml\n"
     ]
    }
   ],
   "source": [
    "%%writefile pothole.yaml\n",
    "\n",
    "path: /kaggle/working\n",
    "\n",
    "train: /kaggle/input/potholoehump/potholecustom/train/images\n",
    "val: /kaggle/input/potholehumpyolotest/potholehumptestyolo/images\n",
    "    \n",
    "nc: 2\n",
    "\n",
    "names: \n",
    "  0: Pothole  \n",
    "  1: Hump"
   ]
  },
  {
   "cell_type": "code",
   "execution_count": 3,
   "id": "5cc8faff",
   "metadata": {
    "execution": {
     "iopub.execute_input": "2024-04-30T06:06:08.386434Z",
     "iopub.status.busy": "2024-04-30T06:06:08.386191Z",
     "iopub.status.idle": "2024-04-30T06:06:31.440775Z",
     "shell.execute_reply": "2024-04-30T06:06:31.439745Z"
    },
    "papermill": {
     "duration": 23.061475,
     "end_time": "2024-04-30T06:06:31.442981",
     "exception": false,
     "start_time": "2024-04-30T06:06:08.381506",
     "status": "completed"
    },
    "tags": []
   },
   "outputs": [
    {
     "name": "stdout",
     "output_type": "stream",
     "text": [
      "Ultralytics YOLOv8.2.5 🚀 Python-3.10.13 torch-2.1.2 CUDA:0 (Tesla P100-PCIE-16GB, 16276MiB)\n",
      "YOLOv6n summary (fused): 142 layers, 4233942 parameters, 0 gradients, 11.8 GFLOPs\n",
      "Downloading https://ultralytics.com/assets/Arial.ttf to '/root/.config/Ultralytics/Arial.ttf'...\n"
     ]
    },
    {
     "name": "stderr",
     "output_type": "stream",
     "text": [
      "100%|██████████| 755k/755k [00:00<00:00, 26.8MB/s]\n",
      "\u001b[34m\u001b[1mval: \u001b[0mScanning /kaggle/input/potholehumpyolotest/potholehumptestyolo/labels... 163 images, 0 backgrounds, 0 corrupt: 100%|██████████| 163/163 [00:00<00:00, 190.82it/s]\n"
     ]
    },
    {
     "name": "stdout",
     "output_type": "stream",
     "text": [
      "\u001b[34m\u001b[1mval: \u001b[0mWARNING ⚠️ Cache directory /kaggle/input/potholehumpyolotest/potholehumptestyolo is not writeable, cache not saved.\n"
     ]
    },
    {
     "name": "stderr",
     "output_type": "stream",
     "text": [
      "                 Class     Images  Instances      Box(P          R      mAP50  mAP50-95):   0%|          | 0/11 [00:00<?, ?it/s]libpng warning: cHRM: invalid chromaticities\n",
      "libpng warning: cHRM: invalid chromaticities\n",
      "libpng warning: cHRM: invalid chromaticities\n",
      "libpng warning: cHRM: invalid chromaticities\n",
      "libpng warning: cHRM: invalid chromaticities\n",
      "libpng warning: cHRM: invalid chromaticities\n",
      "libpng warning: cHRM: invalid chromaticities\n",
      "libpng warning: cHRM: invalid chromaticities\n",
      "libpng warning: cHRM: invalid chromaticities\n",
      "libpng warning: cHRM: invalid chromaticities\n",
      "libpng warning: cHRM: invalid chromaticities\n",
      "libpng warning: cHRM: invalid chromaticities\n",
      "libpng warning: cHRM: invalid chromaticities\n",
      "libpng warning: cHRM: invalid chromaticities\n",
      "libpng warning: cHRM: invalid chromaticities\n",
      "                 Class     Images  Instances      Box(P          R      mAP50  mAP50-95):   9%|▉         | 1/11 [00:05<00:52,  5.27s/it]libpng warning: cHRM: invalid chromaticities\n",
      "libpng warning: cHRM: invalid chromaticities\n",
      "                 Class     Images  Instances      Box(P          R      mAP50  mAP50-95): 100%|██████████| 11/11 [00:08<00:00,  1.27it/s]\n",
      "libpng warning: cHRM: invalid chromaticities\n",
      "libpng warning: cHRM: invalid chromaticities\n",
      "libpng warning: cHRM: invalid chromaticities\n",
      "libpng warning: cHRM: invalid chromaticities\n",
      "libpng warning: cHRM: invalid chromaticities\n",
      "libpng warning: cHRM: invalid chromaticities\n",
      "libpng warning: cHRM: invalid chromaticities\n",
      "libpng warning: cHRM: invalid chromaticities\n",
      "libpng warning: cHRM: invalid chromaticities\n",
      "libpng warning: cHRM: invalid chromaticities\n",
      "libpng warning: cHRM: invalid chromaticities\n",
      "libpng warning: cHRM: invalid chromaticities\n",
      "libpng warning: cHRM: invalid chromaticities\n",
      "libpng warning: cHRM: invalid chromaticities\n",
      "libpng warning: cHRM: invalid chromaticities\n"
     ]
    },
    {
     "name": "stdout",
     "output_type": "stream",
     "text": [
      "                   all        163        261       0.83      0.633       0.77      0.444\n",
      "               Pothole        163        161      0.844      0.509      0.705      0.335\n",
      "                  Hump        163        100      0.817      0.757      0.835      0.553\n",
      "Speed: 1.0ms preprocess, 10.8ms inference, 0.0ms loss, 20.3ms postprocess per image\n",
      "Results saved to \u001b[1mruns/detect/val\u001b[0m\n"
     ]
    }
   ],
   "source": [
    "from ultralytics import YOLO\n",
    "\n",
    "model = YOLO('/kaggle/input/yolo-v6-pothole-and-hump/potholev6custom/train/weights/best.pt')  # load a custom model\n",
    "\n",
    "# Validate the model\n",
    "metrics = model.val(data = 'pothole.yaml')  # no arguments needed, dataset and settings remembered\n",
    "  # a list contains map50-95 of each category"
   ]
  },
  {
   "cell_type": "code",
   "execution_count": 4,
   "id": "12ce703b",
   "metadata": {
    "execution": {
     "iopub.execute_input": "2024-04-30T06:06:31.459259Z",
     "iopub.status.busy": "2024-04-30T06:06:31.458760Z",
     "iopub.status.idle": "2024-04-30T06:06:31.464718Z",
     "shell.execute_reply": "2024-04-30T06:06:31.463920Z"
    },
    "papermill": {
     "duration": 0.016586,
     "end_time": "2024-04-30T06:06:31.467051",
     "exception": false,
     "start_time": "2024-04-30T06:06:31.450465",
     "status": "completed"
    },
    "tags": []
   },
   "outputs": [
    {
     "name": "stdout",
     "output_type": "stream",
     "text": [
      "0.4437155983762596\n",
      "0.769844284422079\n",
      "0.4485141619722183\n",
      "[    0.33464     0.55279]\n"
     ]
    }
   ],
   "source": [
    "print(metrics.box.map)    # map50-95\n",
    "print(metrics.box.map50)  # map50\n",
    "print(metrics.box.map75)  # map75\n",
    "print(metrics.box.maps) "
   ]
  },
  {
   "cell_type": "code",
   "execution_count": 5,
   "id": "0ebbc92d",
   "metadata": {
    "execution": {
     "iopub.execute_input": "2024-04-30T06:06:31.483365Z",
     "iopub.status.busy": "2024-04-30T06:06:31.483064Z",
     "iopub.status.idle": "2024-04-30T06:06:42.125525Z",
     "shell.execute_reply": "2024-04-30T06:06:42.124393Z"
    },
    "papermill": {
     "duration": 10.652905,
     "end_time": "2024-04-30T06:06:42.127675",
     "exception": false,
     "start_time": "2024-04-30T06:06:31.474770",
     "status": "completed"
    },
    "tags": []
   },
   "outputs": [
    {
     "name": "stdout",
     "output_type": "stream",
     "text": [
      "Ultralytics YOLOv8.2.5 🚀 Python-3.10.13 torch-2.1.2 CUDA:0 (Tesla P100-PCIE-16GB, 16276MiB)\n",
      "Model summary (fused): 168 layers, 3006038 parameters, 0 gradients, 8.1 GFLOPs\n"
     ]
    },
    {
     "name": "stderr",
     "output_type": "stream",
     "text": [
      "\u001b[34m\u001b[1mval: \u001b[0mScanning /kaggle/input/potholehumpyolotest/potholehumptestyolo/labels... 163 images, 0 backgrounds, 0 corrupt: 100%|██████████| 163/163 [00:00<00:00, 806.26it/s]"
     ]
    },
    {
     "name": "stdout",
     "output_type": "stream",
     "text": [
      "\u001b[34m\u001b[1mval: \u001b[0mWARNING ⚠️ Cache directory /kaggle/input/potholehumpyolotest/potholehumptestyolo is not writeable, cache not saved.\n"
     ]
    },
    {
     "name": "stderr",
     "output_type": "stream",
     "text": [
      "\n",
      "                 Class     Images  Instances      Box(P          R      mAP50  mAP50-95):   9%|▉         | 1/11 [00:00<00:09,  1.10it/s]libpng warning: cHRM: invalid chromaticities\n",
      "libpng warning: cHRM: invalid chromaticities\n",
      "                 Class     Images  Instances      Box(P          R      mAP50  mAP50-95):  18%|█▊        | 2/11 [00:01<00:06,  1.45it/s]libpng warning: cHRM: invalid chromaticities\n",
      "libpng warning: cHRM: invalid chromaticities\n",
      "libpng warning: cHRM: invalid chromaticities\n",
      "libpng warning: cHRM: invalid chromaticities\n",
      "libpng warning: cHRM: invalid chromaticities\n",
      "libpng warning: cHRM: invalid chromaticities\n",
      "libpng warning: cHRM: invalid chromaticities\n",
      "libpng warning: cHRM: invalid chromaticities\n",
      "libpng warning: cHRM: invalid chromaticities\n",
      "libpng warning: cHRM: invalid chromaticities\n",
      "libpng warning: cHRM: invalid chromaticities\n",
      "libpng warning: cHRM: invalid chromaticities\n",
      "libpng warning: cHRM: invalid chromaticities\n",
      "libpng warning: cHRM: invalid chromaticities\n",
      "libpng warning: cHRM: invalid chromaticities\n",
      "                 Class     Images  Instances      Box(P          R      mAP50  mAP50-95): 100%|██████████| 11/11 [00:05<00:00,  2.03it/s]\n",
      "libpng warning: cHRM: invalid chromaticities\n",
      "libpng warning: cHRM: invalid chromaticities\n",
      "libpng warning: cHRM: invalid chromaticities\n",
      "libpng warning: cHRM: invalid chromaticities\n",
      "libpng warning: cHRM: invalid chromaticities\n",
      "libpng warning: cHRM: invalid chromaticities\n",
      "libpng warning: cHRM: invalid chromaticities\n",
      "libpng warning: cHRM: invalid chromaticities\n",
      "libpng warning: cHRM: invalid chromaticities\n",
      "libpng warning: cHRM: invalid chromaticities\n",
      "libpng warning: cHRM: invalid chromaticities\n",
      "libpng warning: cHRM: invalid chromaticities\n",
      "libpng warning: cHRM: invalid chromaticities\n",
      "libpng warning: cHRM: invalid chromaticities\n",
      "libpng warning: cHRM: invalid chromaticities\n"
     ]
    },
    {
     "name": "stdout",
     "output_type": "stream",
     "text": [
      "                   all        163        261      0.877      0.677      0.826      0.503\n",
      "               Pothole        163        161      0.843      0.634      0.779       0.41\n",
      "                  Hump        163        100      0.912       0.72      0.873      0.595\n",
      "Speed: 1.7ms preprocess, 6.1ms inference, 0.0ms loss, 1.8ms postprocess per image\n",
      "Results saved to \u001b[1mruns/detect/val2\u001b[0m\n"
     ]
    },
    {
     "data": {
      "text/plain": [
       "array([     0.4102,     0.59499])"
      ]
     },
     "execution_count": 5,
     "metadata": {},
     "output_type": "execute_result"
    }
   ],
   "source": [
    "model = YOLO('/kaggle/input/yolo-v8-pothole-and-hump/potholev8custom/train/weights/best.pt')  # load a custom model\n",
    "\n",
    "# Validate the model\n",
    "metrics = model.val(data = 'pothole.yaml')  # no arguments needed, dataset and settings remembered\n",
    "metrics.box.map    # map50-95\n",
    "metrics.box.map50  # map50\n",
    "metrics.box.map75  # map75\n",
    "metrics.box.maps   # a list contains map50-95 of each category"
   ]
  },
  {
   "cell_type": "code",
   "execution_count": 6,
   "id": "0aee4e0b",
   "metadata": {
    "execution": {
     "iopub.execute_input": "2024-04-30T06:06:42.149903Z",
     "iopub.status.busy": "2024-04-30T06:06:42.149583Z",
     "iopub.status.idle": "2024-04-30T06:06:52.965446Z",
     "shell.execute_reply": "2024-04-30T06:06:52.964479Z"
    },
    "papermill": {
     "duration": 10.829441,
     "end_time": "2024-04-30T06:06:52.967737",
     "exception": false,
     "start_time": "2024-04-30T06:06:42.138296",
     "status": "completed"
    },
    "tags": []
   },
   "outputs": [
    {
     "name": "stdout",
     "output_type": "stream",
     "text": [
      "Ultralytics YOLOv8.2.5 🚀 Python-3.10.13 torch-2.1.2 CUDA:0 (Tesla P100-PCIE-16GB, 16276MiB)\n",
      "Model summary (fused): 168 layers, 3006038 parameters, 0 gradients, 8.1 GFLOPs\n"
     ]
    },
    {
     "name": "stderr",
     "output_type": "stream",
     "text": [
      "\u001b[34m\u001b[1mval: \u001b[0mScanning /kaggle/input/potholehumpyolotest/potholehumptestyolo/labels... 163 images, 0 backgrounds, 0 corrupt: 100%|██████████| 163/163 [00:00<00:00, 804.51it/s]"
     ]
    },
    {
     "name": "stdout",
     "output_type": "stream",
     "text": [
      "\u001b[34m\u001b[1mval: \u001b[0mWARNING ⚠️ Cache directory /kaggle/input/potholehumpyolotest/potholehumptestyolo is not writeable, cache not saved.\n"
     ]
    },
    {
     "name": "stderr",
     "output_type": "stream",
     "text": [
      "\n",
      "                 Class     Images  Instances      Box(P          R      mAP50  mAP50-95):   9%|▉         | 1/11 [00:00<00:08,  1.14it/s]libpng warning: cHRM: invalid chromaticities\n",
      "libpng warning: cHRM: invalid chromaticities\n",
      "                 Class     Images  Instances      Box(P          R      mAP50  mAP50-95):  18%|█▊        | 2/11 [00:01<00:05,  1.59it/s]libpng warning: cHRM: invalid chromaticities\n",
      "libpng warning: cHRM: invalid chromaticities\n",
      "libpng warning: cHRM: invalid chromaticities\n",
      "libpng warning: cHRM: invalid chromaticities\n",
      "libpng warning: cHRM: invalid chromaticities\n",
      "libpng warning: cHRM: invalid chromaticities\n",
      "libpng warning: cHRM: invalid chromaticities\n",
      "libpng warning: cHRM: invalid chromaticities\n",
      "libpng warning: cHRM: invalid chromaticities\n",
      "libpng warning: cHRM: invalid chromaticities\n",
      "libpng warning: cHRM: invalid chromaticities\n",
      "                 Class     Images  Instances      Box(P          R      mAP50  mAP50-95):  27%|██▋       | 3/11 [00:03<00:10,  1.26s/it]libpng warning: cHRM: invalid chromaticities\n",
      "libpng warning: cHRM: invalid chromaticities\n",
      "libpng warning: cHRM: invalid chromaticities\n",
      "libpng warning: cHRM: invalid chromaticities\n",
      "                 Class     Images  Instances      Box(P          R      mAP50  mAP50-95): 100%|██████████| 11/11 [00:05<00:00,  1.93it/s]\n",
      "libpng warning: cHRM: invalid chromaticities\n",
      "libpng warning: cHRM: invalid chromaticities\n",
      "libpng warning: cHRM: invalid chromaticities\n",
      "libpng warning: cHRM: invalid chromaticities\n",
      "libpng warning: cHRM: invalid chromaticities\n",
      "libpng warning: cHRM: invalid chromaticities\n",
      "libpng warning: cHRM: invalid chromaticities\n",
      "libpng warning: cHRM: invalid chromaticities\n",
      "libpng warning: cHRM: invalid chromaticities\n",
      "libpng warning: cHRM: invalid chromaticities\n",
      "libpng warning: cHRM: invalid chromaticities\n",
      "libpng warning: cHRM: invalid chromaticities\n",
      "libpng warning: cHRM: invalid chromaticities\n",
      "libpng warning: cHRM: invalid chromaticities\n",
      "libpng warning: cHRM: invalid chromaticities\n"
     ]
    },
    {
     "name": "stdout",
     "output_type": "stream",
     "text": [
      "                   all        163        261      0.877      0.677      0.826      0.503\n",
      "               Pothole        163        161      0.843      0.634      0.779       0.41\n",
      "                  Hump        163        100      0.912       0.72      0.873      0.595\n",
      "Speed: 1.0ms preprocess, 3.0ms inference, 0.0ms loss, 2.3ms postprocess per image\n",
      "Results saved to \u001b[1mruns/detect/val3\u001b[0m\n"
     ]
    },
    {
     "data": {
      "text/plain": [
       "array([     0.4102,     0.59499])"
      ]
     },
     "execution_count": 6,
     "metadata": {},
     "output_type": "execute_result"
    }
   ],
   "source": [
    "model = YOLO('/kaggle/input/yolo-v8-pothole-and-hump/potholev8custom/train/weights/best.pt')  # load a custom model\n",
    "\n",
    "# Validate the model\n",
    "metrics = model.val(data = 'pothole.yaml')  # no arguments needed, dataset and settings remembered\n",
    "metrics.box.map    # map50-95\n",
    "metrics.box.map50  # map50\n",
    "metrics.box.map75  # map75\n",
    "metrics.box.maps   # a list contains map50-95 of each category"
   ]
  }
 ],
 "metadata": {
  "kaggle": {
   "accelerator": "gpu",
   "dataSources": [
    {
     "datasetId": 4909116,
     "sourceId": 8268973,
     "sourceType": "datasetVersion"
    },
    {
     "sourceId": 173545221,
     "sourceType": "kernelVersion"
    },
    {
     "sourceId": 174078924,
     "sourceType": "kernelVersion"
    }
   ],
   "dockerImageVersionId": 30699,
   "isGpuEnabled": true,
   "isInternetEnabled": true,
   "language": "python",
   "sourceType": "notebook"
  },
  "kernelspec": {
   "display_name": "Python 3",
   "language": "python",
   "name": "python3"
  },
  "language_info": {
   "codemirror_mode": {
    "name": "ipython",
    "version": 3
   },
   "file_extension": ".py",
   "mimetype": "text/x-python",
   "name": "python",
   "nbconvert_exporter": "python",
   "pygments_lexer": "ipython3",
   "version": "3.10.13"
  },
  "papermill": {
   "default_parameters": {},
   "duration": 64.423638,
   "end_time": "2024-04-30T06:06:55.803182",
   "environment_variables": {},
   "exception": null,
   "input_path": "__notebook__.ipynb",
   "output_path": "__notebook__.ipynb",
   "parameters": {},
   "start_time": "2024-04-30T06:05:51.379544",
   "version": "2.5.0"
  }
 },
 "nbformat": 4,
 "nbformat_minor": 5
}
